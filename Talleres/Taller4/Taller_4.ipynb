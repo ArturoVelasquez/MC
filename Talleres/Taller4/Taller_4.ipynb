{
 "metadata": {
  "name": "",
  "signature": "sha256:a644922dab6d1223e0d73cf4b2916c4884ff0c8e060aeb9da1e4071d6c969aff"
 },
 "nbformat": 3,
 "nbformat_minor": 0,
 "worksheets": [
  {
   "cells": [
    {
     "cell_type": "code",
     "collapsed": false,
     "input": [
      "%pylab inline\n",
      "import numpy as np\n",
      "import matplotlib.pyplot as plt\n",
      "import scipy as sp\n",
      "from scipy import interpolate"
     ],
     "language": "python",
     "metadata": {},
     "outputs": [
      {
       "output_type": "stream",
       "stream": "stdout",
       "text": [
        "Populating the interactive namespace from numpy and matplotlib\n"
       ]
      }
     ],
     "prompt_number": 2
    },
    {
     "cell_type": "markdown",
     "metadata": {},
     "source": [
      "#Interpolacin sinosiodal"
     ]
    },
    {
     "cell_type": "code",
     "collapsed": false,
     "input": [
      "y=[]\n",
      "x=[]\n",
      "for i in range (0,4):\n",
      "    x.append(i*np.pi/2)\n",
      "    y.append(np.sin(i*np.pi/2))"
     ],
     "language": "python",
     "metadata": {},
     "outputs": [],
     "prompt_number": 43
    },
    {
     "cell_type": "code",
     "collapsed": false,
     "input": [
      "f=interpolate.interp1d(x,seno,kind='quadratic')"
     ],
     "language": "python",
     "metadata": {},
     "outputs": [],
     "prompt_number": 44
    },
    {
     "cell_type": "markdown",
     "metadata": {},
     "source": [
      "#Muestreo regular"
     ]
    },
    {
     "cell_type": "code",
     "collapsed": false,
     "input": [
      "a=[]\n",
      "y=[]\n",
      "\n",
      "a.append(0.138490669327)\n",
      "y.append(2.30060161547)\n",
      "a.append(0.153824397539) \n",
      "y.append(2.31193402603)\n",
      "a.append(0.229578204444) \n",
      "y.append(2.30212660197)\n",
      "a.append(0.266435179672)\n",
      "y.append(2.25835963399)\n",
      "a.append(0.276929414769) \n",
      "y.append(2.24136088402)\n",
      "a.append(0.334159056347)\n",
      "y.append(2.11468161418)\n",
      "a.append(0.383612191183)\n",
      "y.append(1.96176872424)\n",
      "a.append(0.446434890218)\n",
      "y.append(1.71619353619)\n",
      "a.append(0.541989923364)\n",
      "y.append(1.25473903911)\n",
      "a.append(1.33433323552)\n",
      "y.append(-1.434111205)\n",
      "a.append(1.44538290595)\n",
      "y.append(-1.20791779482)\n",
      "a.append(1.51883847305)\n",
      "y.append(-0.991229025177)\n",
      "a.append(1.6057389642)\n",
      "y.append(-0.687154743681)\n",
      "a.append(1.74396177688)\n",
      "y.append(-0.152610073833)\n",
      "a.append(1.87038245824)\n",
      "y.append(0.324964643125)\n",
      "a.append(2.30863773381)\n",
      "y.append(1.31618219677)\n",
      "a.append(2.38628525713)\n",
      "y.append(1.37058691008)\n",
      "a.append(2.46587111271)\n",
      "y.append(1.4006163649)\n",
      "a.append(2.65137821271)\n",
      "y.append(1.41356286272)\n",
      "a.append(2.75152244191)\n",
      "y.append(1.41133466756)\n",
      "a.append(2.82756611885)\n",
      "y.append(1.41289890942)\n",
      "a.append(4.19566321688)\n",
      "y.append(0.0396966472625)\n",
      "a.append(4.3105185461)\n",
      "y.append(-0.0681282942773)\n",
      "a.append(4.45641816306)\n",
      "y.append(-0.0704087548339)\n"
     ],
     "language": "python",
     "metadata": {},
     "outputs": [],
     "prompt_number": 16
    },
    {
     "cell_type": "code",
     "collapsed": false,
     "input": [
      "muestras=np.linspace(0.138490669327,4.45641816306,len(a))\n",
      "f=interpolate.interp1d(a,y,kind='cubic')"
     ],
     "language": "python",
     "metadata": {},
     "outputs": [],
     "prompt_number": 29
    },
    {
     "cell_type": "code",
     "collapsed": false,
     "input": [
      "print \"      x               y\"\n",
      "for i in range (0,len(a)):\n",
      "    a[i]=muestras[i]\n",
      "    y[i]=f(a[i])\n",
      "    print a[i],y[i]"
     ],
     "language": "python",
     "metadata": {},
     "outputs": [
      {
       "output_type": "stream",
       "stream": "stdout",
       "text": [
        "      x               y\n",
        "0.138490669327 2.30060161547\n",
        "0.326226647315 2.13557983804\n",
        "0.513962625304 1.39719881749\n",
        "0.701698603292 0.417206585909\n",
        "0.889434581281 -0.508199547139\n",
        "1.07717055927 -1.19852808033\n",
        "1.26490653726 -1.4736082803\n",
        "1.45264251525 -1.18833620006\n",
        "1.64037849323 -0.55652504403\n",
        "1.82811447122 0.171218763615\n",
        "2.01585044921 0.779865462088\n",
        "2.2035864272 1.18452422396\n",
        "2.39132240519 1.37314208846\n",
        "2.57905838318 1.41448149449\n",
        "2.76679436116 1.41176113173\n",
        "2.95453033915 1.38826705753\n",
        "3.14226631714 1.28426676118\n",
        "3.33000229513 1.11616041679\n",
        "3.51773827312 0.902468822016\n",
        "3.70547425111 0.661712774524\n",
        "3.89321022909 0.412413071971\n",
        "4.08094620708 0.173090512018\n",
        "4.26868218507 -0.0349501128798\n",
        "4.45641816306 -0.0704087548339\n"
       ]
      }
     ],
     "prompt_number": 37
    },
    {
     "cell_type": "markdown",
     "metadata": {},
     "source": []
    }
   ],
   "metadata": {}
  }
 ]
}