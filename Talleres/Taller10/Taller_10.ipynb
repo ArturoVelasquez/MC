{
 "cells": [
  {
   "cell_type": "markdown",
   "metadata": {},
   "source": [
    "#Taller 10\n",
    "*Métodos Computacionales - Laboratorio*\n",
    "\n",
    "17-Jul-2015\n",
    "\n",
    "## Modelo de Ising 3D ✵ X 6\n",
    "\n",
    "1. Estime la magnetización en función de la temperatura para el modelo de Ising en 3D usando una red cúbica de 20x20x20 con condiciones de frontera periódicas. Utilice al menos 1e6 iteraciones para cada temperatura. Ponga sobre la gráfica el estimado para la temperatura de transición de fase Tc ≈ 4.51 (ver Alves, Berg y Villanova  [Phys. Rev. B 41, 383](http://journals.aps.org.ezproxy.uniandes.edu.co:8080/prb/abstract/10.1103/PhysRevB.41.383)). Modifique de forma adecuada el método de Monte Carlo empleado para estudiar el modelo en 2D. Para calcular las magnetizaciones utilice los últimos diez estados calculados para cada temperatura.\n",
    "\n",
    "![](https://raw.githubusercontent.com/ComputoCienciasUniandes/MetodosComputacionalesLaboratorio/master/2015-V/actividades/talleres/Taller10/ising3D.png? raw=true =200x).\n",
    "\n",
    "\n",
    "  **Al terminar la clase del viernes ejecute `lottery.sh` para saber si su taller va a ser revisado.**"
   ]
  },
  {
   "cell_type": "code",
   "execution_count": 1,
   "metadata": {
    "collapsed": true
   },
   "outputs": [],
   "source": [
    "import numpy as np\n",
    "import matplotlib as mpl; import matplotlib.pyplot as plt\n",
    "%matplotlib inline\n",
    "import os; import pickle"
   ]
  },
  {
   "cell_type": "code",
   "execution_count": 8,
   "metadata": {
    "collapsed": false
   },
   "outputs": [],
   "source": [
    "N=20\n",
    "lattice=np.ones((N,N,N))\n",
    "T=10.\n",
    "beta=1./T\n",
    "def total_energy():\n",
    "    global lattice\n",
    "    return -sum(sum(lattice*(np.roll(lattice,1,axis=2)+\\\n",
    "                             np.roll(lattice,-1,axis=2)+\\\n",
    "                             np.roll(lattice,1,axis=1)+\\\n",
    "                             np.roll(lattice,-1,axis=1)+\\\n",
    "                             np.roll(lattice,1,axis=0)+\\\n",
    "                             np.roll(lattice,-1,axis=0))))\n",
    "def block_energy(i,j,k):\n",
    "    global lattice\n",
    "    global N\n",
    "    return -(lattice[i,j,k]*(lattice[(i-1)%N,j,k]+\\\n",
    "                                  lattice[(i+1)%N,j,k]+\\\n",
    "                                  lattice[i,(j+1)%N,k]+\\\n",
    "                                  lattice[i,(j-1)%N,k]+\\\n",
    "                                  lattice[i,j,(k-1)%N]+\\\n",
    "                                  lattice[i,j,(k+1)%N]))\n",
    "def flipone():\n",
    "    global lattice\n",
    "    global beta\n",
    "    global N\n",
    "    # Pick a random site\n",
    "    nx, ny, nz= np.random.randint(0,N),np.random.randint(0,N),np.random.randint(0,N)\n",
    "    # Calculate current energy of site and neighbors\n",
    "    en_i=block_energy(nx,ny,nz)\n",
    "    # If it were flipped\n",
    "    en_f=-en_i\n",
    "    if en_f<en_i: # This could be simplified\n",
    "        lattice[nx,ny,nz]*=-1\n",
    "    elif np.random.random()<min(1,np.exp(-beta*(en_f-en_i))):\n",
    "        lattice[nx,ny,nz]*=-1\n",
    "\n",
    "def magnetization():\n",
    "    global lattice\n",
    "    global N\n",
    "    return sum(sum(lattice))/N**2"
   ]
  },
  {
   "cell_type": "code",
   "execution_count": 9,
   "metadata": {
    "collapsed": false
   },
   "outputs": [
    {
     "data": {
      "text/plain": [
       "-6.0"
      ]
     },
     "execution_count": 9,
     "metadata": {},
     "output_type": "execute_result"
    }
   ],
   "source": [
    "block_energy(10,10,10)"
   ]
  },
  {
   "cell_type": "code",
   "execution_count": 12,
   "metadata": {
    "collapsed": false
   },
   "outputs": [
    {
     "name": "stdout",
     "output_type": "stream",
     "text": [
      "0.1 0.2 0.3 0.4 0.5 0.6 0.7 0.8 0.9 1.0 1.1 1.2 1.3 1.4 1.5 1.6 1.7 1.8 1.9 2.0 2.1 2.2 2.3 2.4 2.5 2.6 2.7 2.8 2.9 3.0 3.1 3.2 3.3 3.4 3.5 3.6 3.7 3.8 3.9 4.0 4.1 4.2 4.3 4.4 4.5 4.6 4.7 4.8 4.9 5.0 5.1 5.2 5.3 5.4 5.5 5.6 5.7 5.8 5.9 6.0\n"
     ]
    }
   ],
   "source": [
    "magnetizaciones=[]\n",
    "lattice=np.ones((N,N,N))\n",
    "numIter=10**6\n",
    "for temp in np.linspace(0.1,6,60):\n",
    "    print temp,\n",
    "    T=temp\n",
    "    beta=1./T\n",
    "    mag=[]\n",
    "    for i in range(numIter):\n",
    "        flipone()\n",
    "        if i>numIter-100:\n",
    "            mag.append(magnetization())\n",
    "    magnetizaciones.append([T,np.mean(mag)])\n",
    "magnetizaciones=np.array(magnetizaciones)"
   ]
  },
  {
   "cell_type": "code",
   "execution_count": 13,
   "metadata": {
    "collapsed": false
   },
   "outputs": [
    {
     "data": {
      "image/png": "[encoded data removed]",
      "text/plain": [
       "<matplotlib.figure.Figure at 0x7fd88b164150>"
      ]
     },
     "metadata": {},
     "output_type": "display_data"
    }
   ],
   "source": [
    "plt.figure(figsize=(10,6))\n",
    "plt.plot(magnetizaciones[:,0],magnetizaciones[:,1],\"o-\")\n",
    "plt.xlabel(\"T\")\n",
    "plt.ylabel(\"M\")\n",
    "plt.title(u\"Magnetización en el Modelo de Ising 2D\") \n",
    "plt.ylim(0,1)\n",
    "plt.axvline(4.51, color='red')\n",
    "plt.show()"
   ]
  },
  {
   "cell_type": "code",
   "execution_count": null,
   "metadata": {
    "collapsed": true
   },
   "outputs": [],
   "source": []
  }
 ],
 "metadata": {
  "kernelspec": {
   "display_name": "Python 2",
   "language": "python",
   "name": "python2"
  },
  "language_info": {
   "codemirror_mode": {
    "name": "ipython",
    "version": 2
   },
   "file_extension": ".py",
   "mimetype": "text/x-python",
   "name": "python",
   "nbconvert_exporter": "python",
   "pygments_lexer": "ipython2",
   "version": "2.7.6"
  }
 },
 "nbformat": 4,
 "nbformat_minor": 0
}
