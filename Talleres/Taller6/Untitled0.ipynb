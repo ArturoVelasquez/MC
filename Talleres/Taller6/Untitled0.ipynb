{
 "metadata": {
  "name": "",
  "signature": "sha256:fec8ca362a84ac04cc5f06a70ad668fc70c1cc4be0aff4cdd186cbafb1915e92"
 },
 "nbformat": 3,
 "nbformat_minor": 0,
 "worksheets": [
  {
   "cells": [
    {
     "cell_type": "code",
     "collapsed": false,
     "input": [
      "%pylab inline\n",
      "import numpy as np\n",
      "import matplotlib\n",
      "import scipy\n",
      "import matplotlib.pyplot as plt"
     ],
     "language": "python",
     "metadata": {},
     "outputs": [
      {
       "output_type": "stream",
       "stream": "stdout",
       "text": [
        "Populating the interactive namespace from numpy and matplotlib\n"
       ]
      }
     ],
     "prompt_number": 1
    },
    {
     "cell_type": "code",
     "collapsed": false,
     "input": [
      "cordenadas = np.genfromtxt(\"cordenadas.txt\")\n",
      "tiempos = np.genfromtxt(\"tiempo.txt\",delimiter=\":\")\n",
      "print tiempos"
     ],
     "language": "python",
     "metadata": {},
     "outputs": [
      {
       "output_type": "stream",
       "stream": "stdout",
       "text": [
        "[[ 11.  21.   6.]\n",
        " [ 11.  21.  14.]\n",
        " [ 11.  21.  18.]\n",
        " ..., \n",
        " [ 13.   0.  16.]\n",
        " [ 13.   0.  18.]\n",
        " [ 13.   0.  19.]]\n"
       ]
      }
     ],
     "prompt_number": 3
    },
    {
     "cell_type": "code",
     "collapsed": false,
     "input": [
      "#radio de la tierra\n",
      "r=6371*10**3\n",
      "longitud=cordenadas[:,0]\n",
      "longitud=360+longitud\n",
      "latitud=cordenadas[:,1]\n",
      "hora = tiempos[:,0]\n",
      "minuto = tiempos[:,1]\n",
      "segundos = tiempos[:,2]\n",
      "tiempoSeg = hora*3600+minuto*60+segundos"
     ],
     "language": "python",
     "metadata": {},
     "outputs": [],
     "prompt_number": 21
    },
    {
     "cell_type": "code",
     "collapsed": false,
     "input": [
      "cordenada=np.ndarray(shape=(len(longitud),4))\n",
      "for i in range(len(cordenadas)):\n",
      "    x=r*cos(longitud[i])*sin(latitud[i])\n",
      "    y=r*sin(longitud[i])*sin(latitud[i])\n",
      "    z=r*cos(latitud[i])\n",
      "    Cordenada[i]=(x,y,z,tiempoSeg[i])\n",
      "print x,r,longitud[i],latitud[i]"
     ],
     "language": "python",
     "metadata": {},
     "outputs": [
      {
       "output_type": "stream",
       "stream": "stdout",
       "text": [
        "6347556.55069 6371000 285.915771484 4.63229608536\n"
       ]
      }
     ],
     "prompt_number": 22
    },
    {
     "cell_type": "code",
     "collapsed": false,
     "input": [],
     "language": "python",
     "metadata": {},
     "outputs": []
    }
   ],
   "metadata": {}
  }
 ]
}