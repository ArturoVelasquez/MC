{
 "cells": [
  {
   "cell_type": "code",
   "execution_count": 6,
   "metadata": {
    "collapsed": false
   },
   "outputs": [],
   "source": [
    "import turtle as t\n",
    "import matplotlib.pyplot as plt"
   ]
  },
  {
   "cell_type": "code",
   "execution_count": 20,
   "metadata": {
    "collapsed": false
   },
   "outputs": [],
   "source": [
    "#define las direcciones y longitudes de una cara en la primera iteración.\n",
    "def lado(j,d,dd):\n",
    "# \"j\" es la direccón del lado del triángulo, \"d\" la distancia a recorrer por cada movimiento, \"dd\" para futuras iteraciones del \"subplano\" de cada uno de los lados que queda en cada cara del triángulo.\n",
    "# hay cuatro movimientos el primero y el ultimo son paralelos, el segundo es ascendente y el tercero es descendente. \n",
    "    t.setheading(j+dd)\n",
    "    t.forward(d)\n",
    "    t.setheading(j+dd+300)\n",
    "    t.forward(d)\n",
    "    t.setheading(j+dd+60)\n",
    "    t.forward(d)\n",
    "    t.setheading(j+dd)\n",
    "    t.forward(d)    "
   ]
  },
  {
   "cell_type": "code",
   "execution_count": 21,
   "metadata": {
    "collapsed": true
   },
   "outputs": [],
   "source": [
    "#Este metodo define los llamados \"subplanos\" para el lado de angulo cero del triángulo.\n",
    "def lado2(n,j):\n",
    "    for i in range(0,4):\n",
    "        #define la cantidad de lados de el copo.\n",
    "                x=3**n\n",
    "            #Los dos primeros condicionales definen la iteracion en el plano que se trabaja.\n",
    "                if i ==0:\n",
    "                    dd=0\n",
    "                    d=(300.00/x)\n",
    "                    lado(j,d,dd)\n",
    "                elif i ==3:\n",
    "                    dd=0\n",
    "                    d=(300.00/x)\n",
    "                    lado(j,d,dd)\n",
    "            #Define la iteración del plano descendente.\n",
    "                elif i ==1:\n",
    "                    dd=300\n",
    "                    d=(300.00/x)\n",
    "                    lado(j,d,dd)\n",
    "            #Define la iteracion del plano ascendente.\n",
    "                elif i ==2:\n",
    "                    dd=60\n",
    "                    d=(300.00/x)\n",
    "                    lado(j,d,dd)\n",
    "    "
   ]
  },
  {
   "cell_type": "code",
   "execution_count": 22,
   "metadata": {
    "collapsed": true
   },
   "outputs": [],
   "source": [
    "#Lo mismo del segundo lado.\n",
    "def lado2_1(n,j):\n",
    "    for i in range(0,4):\n",
    "                x=3**n\n",
    "                if i ==0:\n",
    "                    dd=300\n",
    "                    d=(300.00/x)\n",
    "                    lado(j,d,dd)\n",
    "                elif i ==3:\n",
    "                    dd=300\n",
    "                    d=(300.00/x)\n",
    "                    lado(j,d,dd)\n",
    "                elif i ==1:\n",
    "                    dd=600\n",
    "                    d=(300.00/x)\n",
    "                    lado(j,d,dd)\n",
    "                elif i ==2:\n",
    "                    dd=360\n",
    "                    d=(300.00/x)\n",
    "                    lado(j,d,dd)\n",
    "    "
   ]
  },
  {
   "cell_type": "code",
   "execution_count": 23,
   "metadata": {
    "collapsed": true
   },
   "outputs": [],
   "source": [
    "#Lo mismo del metodo anterior pero para el ultimo lado. \n",
    "def lado2_2(n,j):\n",
    "    for i in range(0,4):\n",
    "                x=3**n\n",
    "                if i ==0:\n",
    "                    dd=60\n",
    "                    d=(300.00/x)\n",
    "                    lado(j,d,dd)\n",
    "                elif i ==3:\n",
    "                    dd=60\n",
    "                    d=(300.00/x)\n",
    "                    lado(j,d,dd)\n",
    "                elif i ==1:\n",
    "                    dd=360\n",
    "                    d=(300.00/x)\n",
    "                    lado(j,d,dd)\n",
    "                elif i ==2:\n",
    "                    dd=120\n",
    "                    d=(300.00/x)\n",
    "                    lado(j,d,dd)"
   ]
  },
  {
   "cell_type": "code",
   "execution_count": 24,
   "metadata": {
    "collapsed": true
   },
   "outputs": [],
   "source": [
    "#Define los movimientos de los metodos anteriores para un movimiento de iteracion mayor. Usa recursivamente los metodos anteriores.\n",
    "def lado3(n,j):\n",
    "    for i in range(0,4):\n",
    "            x=3**n\n",
    "            if i ==0:\n",
    "                dd=0\n",
    "                j=j+dd\n",
    "                d=(300.00/x)\n",
    "                lado2(n,j)\n",
    "                lado2_1(n,j)\n",
    "                lado2_2(n,j)\n",
    "                lado2(n,j)\n",
    "                j=j-dd\n",
    "            elif i ==3:\n",
    "                dd=0\n",
    "                j=j+dd\n",
    "                d=(300.00/x)\n",
    "                lado2(n,j)\n",
    "                lado2_1(n,j)\n",
    "                lado2_2(n,j)\n",
    "                lado2(n,j)\n",
    "                j=j-dd\n",
    "            elif i ==1:\n",
    "                dd=300\n",
    "                j=j+dd\n",
    "                d=(300.00/x)\n",
    "                lado2(n,j)\n",
    "                lado2_1(n,j)\n",
    "                lado2_2(n,j)\n",
    "                lado2(n,j)\n",
    "                j=j-dd\n",
    "            elif i ==2:\n",
    "                dd=60\n",
    "                j=j+dd\n",
    "                d=(300.00/x)\n",
    "                lado2(n,j)\n",
    "                lado2_1(n,j)\n",
    "                lado2_2(n,j)\n",
    "                lado2(n,j)\n",
    "                j=j-dd"
   ]
  },
  {
   "cell_type": "code",
   "execution_count": 25,
   "metadata": {
    "collapsed": false
   },
   "outputs": [],
   "source": [
    "#con este metodo se dibuja un triangulo.\n",
    "def step0():\n",
    "    #define el tamaño de la pantalla.\n",
    "    t.screensize(1010,660)\n",
    "    #define la longitud de los lados.\n",
    "    y=300\n",
    "    #define el color de la pantalla.\n",
    "    t.bgcolor(\"black\")\n",
    "    #define el color de la \"tortuga\".\n",
    "    t.pencolor(\"white\")\n",
    "    #hace invisible la tortuga\n",
    "    t.hideturtle()\n",
    "    t.forward(y)\n",
    "    t.setheading(120)\n",
    "    t.forward(y)\n",
    "    t.setheading(240)\n",
    "    t.forward(y)"
   ]
  },
  {
   "cell_type": "code",
   "execution_count": 26,
   "metadata": {
    "collapsed": false
   },
   "outputs": [],
   "source": [
    "#este metodo dibuja la segunda figura.\n",
    "def step1():\n",
    "    t.speed('fastest')\n",
    "    t.bgcolor(\"black\")\n",
    "    t.pencolor(\"white\")\n",
    "    t.hideturtle()\n",
    "    n=1\n",
    "    for i in range(0,3):\n",
    "        j=i*120\n",
    "        x=3**n\n",
    "        d=(300/x)\n",
    "        dd=0\n",
    "        lado(j,d,dd)\n",
    "    "
   ]
  },
  {
   "cell_type": "code",
   "execution_count": 27,
   "metadata": {
    "collapsed": false,
    "scrolled": true
   },
   "outputs": [],
   "source": [
    "#este metodo dibuja la tercera figura.\n",
    "def step2():\n",
    "    t.speed('fastest')\n",
    "    t.bgcolor(\"black\")\n",
    "    t.pencolor(\"white\")\n",
    "    t.hideturtle()\n",
    "    n=2\n",
    "    for k in range (0,3):\n",
    "        j=k*120\n",
    "        lado2(n,j)"
   ]
  },
  {
   "cell_type": "code",
   "execution_count": 28,
   "metadata": {
    "collapsed": false
   },
   "outputs": [],
   "source": [
    "#este metodo dibuja la cuarta figura.\n",
    "def step3():\n",
    "    t.speed('fastest')\n",
    "    t.bgcolor(\"black\")\n",
    "    t.pencolor(\"white\")\n",
    "    t.hideturtle()\n",
    "    n=3\n",
    "    for k in range(0,3):\n",
    "        x=3**n\n",
    "        j=k*120\n",
    "        lado2(n,j)\n",
    "        lado2_1(n,j)\n",
    "        lado2_2(n,j)\n",
    "        lado2(n,j)"
   ]
  },
  {
   "cell_type": "code",
   "execution_count": 29,
   "metadata": {
    "collapsed": false
   },
   "outputs": [],
   "source": [
    "#este metodo dibuja la quinta figura.\n",
    "def step4():\n",
    "    t.speed('fastest')\n",
    "    t.bgcolor(\"black\")\n",
    "    t.pencolor(\"white\")\n",
    "    t.hideturtle()\n",
    "    n=4\n",
    "    for k in range(0,3):\n",
    "        j=k*120\n",
    "        lado3(n,j)\n",
    "        "
   ]
  },
  {
   "cell_type": "code",
   "execution_count": 30,
   "metadata": {
    "collapsed": false
   },
   "outputs": [],
   "source": [
    "#este metodo dibuja la segunda figura.\n",
    "def step5():\n",
    "    t.speed('fastest')\n",
    "    t.bgcolor(\"black\")\n",
    "    t.pencolor(\"white\")\n",
    "    t.hideturtle()\n",
    "    n=5\n",
    "    for k in range(0,3):\n",
    "        x=3**n\n",
    "        j=k*120\n",
    "        for i in range(0,4):\n",
    "            if i ==0:\n",
    "                dd=0\n",
    "                j=j+dd\n",
    "                d=(300.00/x)\n",
    "                lado3(n,j)\n",
    "                j=j-dd\n",
    "            elif i ==3:\n",
    "                dd=0\n",
    "                j=j+dd\n",
    "                d=(300.00/x)\n",
    "                lado3(n,j)\n",
    "                j=j-dd\n",
    "            elif i ==1:\n",
    "                dd=300\n",
    "                j=j+dd\n",
    "                d=(300.00/x)\n",
    "                lado3(n,j)\n",
    "                j=j-dd\n",
    "            elif i ==2:\n",
    "                dd=60\n",
    "                j=j+dd\n",
    "                d=(300.00/x)\n",
    "                lado3(n,j)\n",
    "                j=j-dd\n"
   ]
  },
  {
   "cell_type": "code",
   "execution_count": 31,
   "metadata": {
    "collapsed": false,
    "scrolled": true
   },
   "outputs": [],
   "source": [
    "#dibuja el panel con las seis figuras.\n",
    "def dibuja_panel():\n",
    "    #no permite que se dibuje el comando siguiente.\n",
    "    t.penup()\n",
    "    #Asigna una posicion donde comienza la figura.\n",
    "    t.goto(-495,90)\n",
    "    #permite que se dibuje el comando siguiente.\n",
    "    t.pendown()\n",
    "    #Dibuja una figura\n",
    "    step0()\n",
    "    #no permite que se dibuje el comando siguiente.\n",
    "    t.penup()\n",
    "    #Asigna una posicion donde comienza la figura.\n",
    "    t.goto(-165,90)\n",
    "    #permite que se dibuje el comando siguiente.\n",
    "    t.pendown()\n",
    "    #Dibuja una figura\n",
    "    step1()\n",
    "    #no permite que se dibuje el comando siguiente.\n",
    "    t.penup()\n",
    "    #Asigna una posicion donde comienza la figura.\n",
    "    t.goto(165,90)\n",
    "    #permite que se dibuje el comando siguiente.\n",
    "    t.pendown()\n",
    "    #Dibuja una figura\n",
    "    step2()\n",
    "    #no permite que se dibuje el comando siguiente.\n",
    "    t.penup()\n",
    "    #Asigna una posicion donde comienza la figura.\n",
    "    t.goto(-495,-275)\n",
    "    #permite que se dibuje el comando siguiente.\n",
    "    t.pendown()\n",
    "    #Dibuja una figura\n",
    "    step3()\n",
    "    #no permite que se dibuje el comando siguiente.\n",
    "    t.penup()\n",
    "    #Asigna una posicion donde comienza la figura.\n",
    "    t.goto(-165,-275)\n",
    "    #permite que se dibuje el comando siguiente.\n",
    "    t.pendown()\n",
    "    #Dibuja una figura\n",
    "    step4()\n",
    "    #no permite que se dibuje el comando siguiente.    \n",
    "    t.penup()\n",
    "    #Asigna una posicion donde comienza la figura.\n",
    "    t.goto(165,-275)\n",
    "    #permite que se dibuje el comando siguiente.\n",
    "    t.pendown()\n",
    "    #Dibuja una figura\n",
    "    step5()"
   ]
  },
  {
   "cell_type": "code",
   "execution_count": 33,
   "metadata": {
    "collapsed": false
   },
   "outputs": [
    {
     "ename": "KeyboardInterrupt",
     "evalue": "",
     "output_type": "error",
     "traceback": [
      "\u001b[1;31m---------------------------------------------------------------------------\u001b[0m",
      "\u001b[1;31mKeyboardInterrupt\u001b[0m                         Traceback (most recent call last)",
      "\u001b[1;32m<ipython-input-33-5ae3ce15157a>\u001b[0m in \u001b[0;36m<module>\u001b[1;34m()\u001b[0m\n\u001b[0;32m      4\u001b[0m \u001b[0mstep3\u001b[0m\u001b[1;33m(\u001b[0m\u001b[1;33m)\u001b[0m\u001b[1;33m\u001b[0m\u001b[0m\n\u001b[0;32m      5\u001b[0m \u001b[0mstep4\u001b[0m\u001b[1;33m(\u001b[0m\u001b[1;33m)\u001b[0m\u001b[1;33m\u001b[0m\u001b[0m\n\u001b[1;32m----> 6\u001b[1;33m \u001b[0mstep5\u001b[0m\u001b[1;33m(\u001b[0m\u001b[1;33m)\u001b[0m\u001b[1;33m\u001b[0m\u001b[0m\n\u001b[0m",
      "\u001b[1;32m<ipython-input-30-85b681414e2e>\u001b[0m in \u001b[0;36mstep5\u001b[1;34m()\u001b[0m\n\u001b[0;32m     20\u001b[0m                 \u001b[0mj\u001b[0m\u001b[1;33m=\u001b[0m\u001b[0mj\u001b[0m\u001b[1;33m+\u001b[0m\u001b[0mdd\u001b[0m\u001b[1;33m\u001b[0m\u001b[0m\n\u001b[0;32m     21\u001b[0m                 \u001b[0md\u001b[0m\u001b[1;33m=\u001b[0m\u001b[1;33m(\u001b[0m\u001b[1;36m300.00\u001b[0m\u001b[1;33m/\u001b[0m\u001b[0mx\u001b[0m\u001b[1;33m)\u001b[0m\u001b[1;33m\u001b[0m\u001b[0m\n\u001b[1;32m---> 22\u001b[1;33m                 \u001b[0mlado3\u001b[0m\u001b[1;33m(\u001b[0m\u001b[0mn\u001b[0m\u001b[1;33m,\u001b[0m\u001b[0mj\u001b[0m\u001b[1;33m)\u001b[0m\u001b[1;33m\u001b[0m\u001b[0m\n\u001b[0m\u001b[0;32m     23\u001b[0m                 \u001b[0mj\u001b[0m\u001b[1;33m=\u001b[0m\u001b[0mj\u001b[0m\u001b[1;33m-\u001b[0m\u001b[0mdd\u001b[0m\u001b[1;33m\u001b[0m\u001b[0m\n\u001b[0;32m     24\u001b[0m             \u001b[1;32melif\u001b[0m \u001b[0mi\u001b[0m \u001b[1;33m==\u001b[0m\u001b[1;36m1\u001b[0m\u001b[1;33m:\u001b[0m\u001b[1;33m\u001b[0m\u001b[0m\n",
      "\u001b[1;32m<ipython-input-24-5c39325fc810>\u001b[0m in \u001b[0;36mlado3\u001b[1;34m(n, j)\u001b[0m\n\u001b[0;32m     18\u001b[0m                 \u001b[0mlado2\u001b[0m\u001b[1;33m(\u001b[0m\u001b[0mn\u001b[0m\u001b[1;33m,\u001b[0m\u001b[0mj\u001b[0m\u001b[1;33m)\u001b[0m\u001b[1;33m\u001b[0m\u001b[0m\n\u001b[0;32m     19\u001b[0m                 \u001b[0mlado2_1\u001b[0m\u001b[1;33m(\u001b[0m\u001b[0mn\u001b[0m\u001b[1;33m,\u001b[0m\u001b[0mj\u001b[0m\u001b[1;33m)\u001b[0m\u001b[1;33m\u001b[0m\u001b[0m\n\u001b[1;32m---> 20\u001b[1;33m                 \u001b[0mlado2_2\u001b[0m\u001b[1;33m(\u001b[0m\u001b[0mn\u001b[0m\u001b[1;33m,\u001b[0m\u001b[0mj\u001b[0m\u001b[1;33m)\u001b[0m\u001b[1;33m\u001b[0m\u001b[0m\n\u001b[0m\u001b[0;32m     21\u001b[0m                 \u001b[0mlado2\u001b[0m\u001b[1;33m(\u001b[0m\u001b[0mn\u001b[0m\u001b[1;33m,\u001b[0m\u001b[0mj\u001b[0m\u001b[1;33m)\u001b[0m\u001b[1;33m\u001b[0m\u001b[0m\n\u001b[0;32m     22\u001b[0m                 \u001b[0mj\u001b[0m\u001b[1;33m=\u001b[0m\u001b[0mj\u001b[0m\u001b[1;33m-\u001b[0m\u001b[0mdd\u001b[0m\u001b[1;33m\u001b[0m\u001b[0m\n",
      "\u001b[1;32m<ipython-input-23-3a83169f478f>\u001b[0m in \u001b[0;36mlado2_2\u001b[1;34m(n, j)\u001b[0m\n\u001b[0;32m      6\u001b[0m                     \u001b[0mdd\u001b[0m\u001b[1;33m=\u001b[0m\u001b[1;36m60\u001b[0m\u001b[1;33m\u001b[0m\u001b[0m\n\u001b[0;32m      7\u001b[0m                     \u001b[0md\u001b[0m\u001b[1;33m=\u001b[0m\u001b[1;33m(\u001b[0m\u001b[1;36m300.00\u001b[0m\u001b[1;33m/\u001b[0m\u001b[0mx\u001b[0m\u001b[1;33m)\u001b[0m\u001b[1;33m\u001b[0m\u001b[0m\n\u001b[1;32m----> 8\u001b[1;33m                     \u001b[0mlado\u001b[0m\u001b[1;33m(\u001b[0m\u001b[0mj\u001b[0m\u001b[1;33m,\u001b[0m\u001b[0md\u001b[0m\u001b[1;33m,\u001b[0m\u001b[0mdd\u001b[0m\u001b[1;33m)\u001b[0m\u001b[1;33m\u001b[0m\u001b[0m\n\u001b[0m\u001b[0;32m      9\u001b[0m                 \u001b[1;32melif\u001b[0m \u001b[0mi\u001b[0m \u001b[1;33m==\u001b[0m\u001b[1;36m3\u001b[0m\u001b[1;33m:\u001b[0m\u001b[1;33m\u001b[0m\u001b[0m\n\u001b[0;32m     10\u001b[0m                     \u001b[0mdd\u001b[0m\u001b[1;33m=\u001b[0m\u001b[1;36m60\u001b[0m\u001b[1;33m\u001b[0m\u001b[0m\n",
      "\u001b[1;32m<ipython-input-20-01a235bd5686>\u001b[0m in \u001b[0;36mlado\u001b[1;34m(j, d, dd)\u001b[0m\n\u001b[0;32m      6\u001b[0m     \u001b[0mt\u001b[0m\u001b[1;33m.\u001b[0m\u001b[0mforward\u001b[0m\u001b[1;33m(\u001b[0m\u001b[0md\u001b[0m\u001b[1;33m)\u001b[0m\u001b[1;33m\u001b[0m\u001b[0m\n\u001b[0;32m      7\u001b[0m     \u001b[0mt\u001b[0m\u001b[1;33m.\u001b[0m\u001b[0msetheading\u001b[0m\u001b[1;33m(\u001b[0m\u001b[0mj\u001b[0m\u001b[1;33m+\u001b[0m\u001b[0mdd\u001b[0m\u001b[1;33m+\u001b[0m\u001b[1;36m300\u001b[0m\u001b[1;33m)\u001b[0m\u001b[1;33m\u001b[0m\u001b[0m\n\u001b[1;32m----> 8\u001b[1;33m     \u001b[0mt\u001b[0m\u001b[1;33m.\u001b[0m\u001b[0mforward\u001b[0m\u001b[1;33m(\u001b[0m\u001b[0md\u001b[0m\u001b[1;33m)\u001b[0m\u001b[1;33m\u001b[0m\u001b[0m\n\u001b[0m\u001b[0;32m      9\u001b[0m     \u001b[0mt\u001b[0m\u001b[1;33m.\u001b[0m\u001b[0msetheading\u001b[0m\u001b[1;33m(\u001b[0m\u001b[0mj\u001b[0m\u001b[1;33m+\u001b[0m\u001b[0mdd\u001b[0m\u001b[1;33m+\u001b[0m\u001b[1;36m60\u001b[0m\u001b[1;33m)\u001b[0m\u001b[1;33m\u001b[0m\u001b[0m\n\u001b[0;32m     10\u001b[0m     \u001b[0mt\u001b[0m\u001b[1;33m.\u001b[0m\u001b[0mforward\u001b[0m\u001b[1;33m(\u001b[0m\u001b[0md\u001b[0m\u001b[1;33m)\u001b[0m\u001b[1;33m\u001b[0m\u001b[0m\n",
      "\u001b[1;32m/usr/lib/python2.7/lib-tk/turtle.py\u001b[0m in \u001b[0;36mforward\u001b[1;34m(distance)\u001b[0m\n",
      "\u001b[1;32m/usr/lib/python2.7/lib-tk/turtle.py\u001b[0m in \u001b[0;36mforward\u001b[1;34m(self, distance)\u001b[0m\n\u001b[0;32m   1550\u001b[0m         \u001b[1;33m(\u001b[0m\u001b[1;33m-\u001b[0m\u001b[1;36m50.00\u001b[0m\u001b[1;33m,\u001b[0m\u001b[1;36m0.00\u001b[0m\u001b[1;33m)\u001b[0m\u001b[1;33m\u001b[0m\u001b[0m\n\u001b[0;32m   1551\u001b[0m         \"\"\"\n\u001b[1;32m-> 1552\u001b[1;33m         \u001b[0mself\u001b[0m\u001b[1;33m.\u001b[0m\u001b[0m_go\u001b[0m\u001b[1;33m(\u001b[0m\u001b[0mdistance\u001b[0m\u001b[1;33m)\u001b[0m\u001b[1;33m\u001b[0m\u001b[0m\n\u001b[0m\u001b[0;32m   1553\u001b[0m \u001b[1;33m\u001b[0m\u001b[0m\n\u001b[0;32m   1554\u001b[0m     \u001b[1;32mdef\u001b[0m \u001b[0mback\u001b[0m\u001b[1;33m(\u001b[0m\u001b[0mself\u001b[0m\u001b[1;33m,\u001b[0m \u001b[0mdistance\u001b[0m\u001b[1;33m)\u001b[0m\u001b[1;33m:\u001b[0m\u001b[1;33m\u001b[0m\u001b[0m\n",
      "\u001b[1;32m/usr/lib/python2.7/lib-tk/turtle.py\u001b[0m in \u001b[0;36m_go\u001b[1;34m(self, distance)\u001b[0m\n\u001b[0;32m   1518\u001b[0m         \u001b[1;34m\"\"\"move turtle forward by specified distance\"\"\"\u001b[0m\u001b[1;33m\u001b[0m\u001b[0m\n\u001b[0;32m   1519\u001b[0m         \u001b[0mende\u001b[0m \u001b[1;33m=\u001b[0m \u001b[0mself\u001b[0m\u001b[1;33m.\u001b[0m\u001b[0m_position\u001b[0m \u001b[1;33m+\u001b[0m \u001b[0mself\u001b[0m\u001b[1;33m.\u001b[0m\u001b[0m_orient\u001b[0m \u001b[1;33m*\u001b[0m \u001b[0mdistance\u001b[0m\u001b[1;33m\u001b[0m\u001b[0m\n\u001b[1;32m-> 1520\u001b[1;33m         \u001b[0mself\u001b[0m\u001b[1;33m.\u001b[0m\u001b[0m_goto\u001b[0m\u001b[1;33m(\u001b[0m\u001b[0mende\u001b[0m\u001b[1;33m)\u001b[0m\u001b[1;33m\u001b[0m\u001b[0m\n\u001b[0m\u001b[0;32m   1521\u001b[0m \u001b[1;33m\u001b[0m\u001b[0m\n\u001b[0;32m   1522\u001b[0m     \u001b[1;32mdef\u001b[0m \u001b[0m_rotate\u001b[0m\u001b[1;33m(\u001b[0m\u001b[0mself\u001b[0m\u001b[1;33m,\u001b[0m \u001b[0mangle\u001b[0m\u001b[1;33m)\u001b[0m\u001b[1;33m:\u001b[0m\u001b[1;33m\u001b[0m\u001b[0m\n",
      "\u001b[1;32m/usr/lib/python2.7/lib-tk/turtle.py\u001b[0m in \u001b[0;36m_goto\u001b[1;34m(self, end)\u001b[0m\n\u001b[0;32m   3025\u001b[0m                                        \u001b[1;31m# of life, the universe and everything\u001b[0m\u001b[1;33m\u001b[0m\u001b[1;33m\u001b[0m\u001b[0m\n\u001b[0;32m   3026\u001b[0m             \u001b[0mself\u001b[0m\u001b[1;33m.\u001b[0m\u001b[0m_newLine\u001b[0m\u001b[1;33m(\u001b[0m\u001b[1;33m)\u001b[0m\u001b[1;33m\u001b[0m\u001b[0m\n\u001b[1;32m-> 3027\u001b[1;33m         \u001b[0mself\u001b[0m\u001b[1;33m.\u001b[0m\u001b[0m_update\u001b[0m\u001b[1;33m(\u001b[0m\u001b[1;33m)\u001b[0m \u001b[1;31m#count=True)\u001b[0m\u001b[1;33m\u001b[0m\u001b[0m\n\u001b[0m\u001b[0;32m   3028\u001b[0m \u001b[1;33m\u001b[0m\u001b[0m\n\u001b[0;32m   3029\u001b[0m     \u001b[1;32mdef\u001b[0m \u001b[0m_undogoto\u001b[0m\u001b[1;33m(\u001b[0m\u001b[0mself\u001b[0m\u001b[1;33m,\u001b[0m \u001b[0mentry\u001b[0m\u001b[1;33m)\u001b[0m\u001b[1;33m:\u001b[0m\u001b[1;33m\u001b[0m\u001b[0m\n",
      "\u001b[1;32m/usr/lib/python2.7/lib-tk/turtle.py\u001b[0m in \u001b[0;36m_update\u001b[1;34m(self)\u001b[0m\n\u001b[0;32m   2565\u001b[0m             \u001b[0mself\u001b[0m\u001b[1;33m.\u001b[0m\u001b[0m_drawturtle\u001b[0m\u001b[1;33m(\u001b[0m\u001b[1;33m)\u001b[0m\u001b[1;33m\u001b[0m\u001b[0m\n\u001b[0;32m   2566\u001b[0m             \u001b[0mscreen\u001b[0m\u001b[1;33m.\u001b[0m\u001b[0m_update\u001b[0m\u001b[1;33m(\u001b[0m\u001b[1;33m)\u001b[0m                  \u001b[1;31m# TurtleScreenBase\u001b[0m\u001b[1;33m\u001b[0m\u001b[0m\n\u001b[1;32m-> 2567\u001b[1;33m             \u001b[0mscreen\u001b[0m\u001b[1;33m.\u001b[0m\u001b[0m_delay\u001b[0m\u001b[1;33m(\u001b[0m\u001b[0mscreen\u001b[0m\u001b[1;33m.\u001b[0m\u001b[0m_delayvalue\u001b[0m\u001b[1;33m)\u001b[0m \u001b[1;31m# TurtleScreenBase\u001b[0m\u001b[1;33m\u001b[0m\u001b[0m\n\u001b[0m\u001b[0;32m   2568\u001b[0m         \u001b[1;32melse\u001b[0m\u001b[1;33m:\u001b[0m\u001b[1;33m\u001b[0m\u001b[0m\n\u001b[0;32m   2569\u001b[0m             \u001b[0mself\u001b[0m\u001b[1;33m.\u001b[0m\u001b[0m_update_data\u001b[0m\u001b[1;33m(\u001b[0m\u001b[1;33m)\u001b[0m\u001b[1;33m\u001b[0m\u001b[0m\n",
      "\u001b[1;32m/usr/lib/python2.7/lib-tk/turtle.py\u001b[0m in \u001b[0;36m_delay\u001b[1;34m(self, delay)\u001b[0m\n\u001b[0;32m    588\u001b[0m     \u001b[1;32mdef\u001b[0m \u001b[0m_delay\u001b[0m\u001b[1;33m(\u001b[0m\u001b[0mself\u001b[0m\u001b[1;33m,\u001b[0m \u001b[0mdelay\u001b[0m\u001b[1;33m)\u001b[0m\u001b[1;33m:\u001b[0m\u001b[1;33m\u001b[0m\u001b[0m\n\u001b[0;32m    589\u001b[0m         \u001b[1;34m\"\"\"Delay subsequent canvas actions for delay ms.\"\"\"\u001b[0m\u001b[1;33m\u001b[0m\u001b[0m\n\u001b[1;32m--> 590\u001b[1;33m         \u001b[0mself\u001b[0m\u001b[1;33m.\u001b[0m\u001b[0mcv\u001b[0m\u001b[1;33m.\u001b[0m\u001b[0mafter\u001b[0m\u001b[1;33m(\u001b[0m\u001b[0mdelay\u001b[0m\u001b[1;33m)\u001b[0m\u001b[1;33m\u001b[0m\u001b[0m\n\u001b[0m\u001b[0;32m    591\u001b[0m \u001b[1;33m\u001b[0m\u001b[0m\n\u001b[0;32m    592\u001b[0m     \u001b[1;32mdef\u001b[0m \u001b[0m_iscolorstring\u001b[0m\u001b[1;33m(\u001b[0m\u001b[0mself\u001b[0m\u001b[1;33m,\u001b[0m \u001b[0mcolor\u001b[0m\u001b[1;33m)\u001b[0m\u001b[1;33m:\u001b[0m\u001b[1;33m\u001b[0m\u001b[0m\n",
      "\u001b[1;32m/usr/lib/python2.7/lib-tk/Tkinter.pyc\u001b[0m in \u001b[0;36mafter\u001b[1;34m(self, ms, func, *args)\u001b[0m\n\u001b[0;32m    530\u001b[0m         \u001b[1;32mif\u001b[0m \u001b[1;32mnot\u001b[0m \u001b[0mfunc\u001b[0m\u001b[1;33m:\u001b[0m\u001b[1;33m\u001b[0m\u001b[0m\n\u001b[0;32m    531\u001b[0m             \u001b[1;31m# I'd rather use time.sleep(ms*0.001)\u001b[0m\u001b[1;33m\u001b[0m\u001b[1;33m\u001b[0m\u001b[0m\n\u001b[1;32m--> 532\u001b[1;33m             \u001b[0mself\u001b[0m\u001b[1;33m.\u001b[0m\u001b[0mtk\u001b[0m\u001b[1;33m.\u001b[0m\u001b[0mcall\u001b[0m\u001b[1;33m(\u001b[0m\u001b[1;34m'after'\u001b[0m\u001b[1;33m,\u001b[0m \u001b[0mms\u001b[0m\u001b[1;33m)\u001b[0m\u001b[1;33m\u001b[0m\u001b[0m\n\u001b[0m\u001b[0;32m    533\u001b[0m         \u001b[1;32melse\u001b[0m\u001b[1;33m:\u001b[0m\u001b[1;33m\u001b[0m\u001b[0m\n\u001b[0;32m    534\u001b[0m             \u001b[1;32mdef\u001b[0m \u001b[0mcallit\u001b[0m\u001b[1;33m(\u001b[0m\u001b[1;33m)\u001b[0m\u001b[1;33m:\u001b[0m\u001b[1;33m\u001b[0m\u001b[0m\n",
      "\u001b[1;31mKeyboardInterrupt\u001b[0m: "
     ]
    }
   ],
   "source": [
    "step0()\n",
    "step1()\n",
    "step2()\n",
    "step3()\n",
    "step4()\n",
    "step5()"
   ]
  },
  {
   "cell_type": "code",
   "execution_count": null,
   "metadata": {
    "collapsed": true
   },
   "outputs": [],
   "source": []
  }
 ],
 "metadata": {
  "kernelspec": {
   "display_name": "Python 2",
   "language": "python",
   "name": "python2"
  },
  "language_info": {
   "codemirror_mode": {
    "name": "ipython",
    "version": 2
   },
   "file_extension": ".py",
   "mimetype": "text/x-python",
   "name": "python",
   "nbconvert_exporter": "python",
   "pygments_lexer": "ipython2",
   "version": "2.7.6"
  }
 },
 "nbformat": 4,
 "nbformat_minor": 0
}
