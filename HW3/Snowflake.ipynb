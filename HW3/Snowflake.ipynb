{
 "cells": [
  {
   "cell_type": "code",
   "execution_count": 44,
   "metadata": {
    "collapsed": false
   },
   "outputs": [],
   "source": [
    "import turtle as t\n",
    "import matplotlib.pyplot as plt"
   ]
  },
  {
   "cell_type": "code",
   "execution_count": 45,
   "metadata": {
    "collapsed": false
   },
   "outputs": [],
   "source": [
    "def lado(j,d,dd):\n",
    "    t.setheading(j+dd)\n",
    "    t.forward(d)\n",
    "    t.setheading(j+dd+300)\n",
    "    t.forward(d)\n",
    "    t.setheading(j+dd+60)\n",
    "    t.forward(d)\n",
    "    t.setheading(j+dd)\n",
    "    t.forward(d)    "
   ]
  },
  {
   "cell_type": "code",
   "execution_count": 46,
   "metadata": {
    "collapsed": true
   },
   "outputs": [],
   "source": [
    " def lado2(n,j):\n",
    "    for i in range(0,4):\n",
    "                x=3**n\n",
    "                if i ==0:\n",
    "                    dd=0\n",
    "                    d=(300.00/x)\n",
    "                    lado(j,d,dd)\n",
    "                elif i ==3:\n",
    "                    dd=0\n",
    "                    d=(300.00/x)\n",
    "                    lado(j,d,dd)\n",
    "                elif i ==1:\n",
    "                    dd=300\n",
    "                    d=(300.00/x)\n",
    "                    lado(j,d,dd)\n",
    "                elif i ==2:\n",
    "                    dd=60\n",
    "                    d=(300.00/x)\n",
    "                    lado(j,d,dd)\n",
    "    "
   ]
  },
  {
   "cell_type": "code",
   "execution_count": 47,
   "metadata": {
    "collapsed": true
   },
   "outputs": [],
   "source": [
    "def lado2_1(n,j):\n",
    "    for i in range(0,4):\n",
    "                x=3**n\n",
    "                if i ==0:\n",
    "                    dd=300\n",
    "                    d=(300.00/x)\n",
    "                    lado(j,d,dd)\n",
    "                elif i ==3:\n",
    "                    dd=300\n",
    "                    d=(300.00/x)\n",
    "                    lado(j,d,dd)\n",
    "                elif i ==1:\n",
    "                    dd=600\n",
    "                    d=(300.00/x)\n",
    "                    lado(j,d,dd)\n",
    "                elif i ==2:\n",
    "                    dd=360\n",
    "                    d=(300.00/x)\n",
    "                    lado(j,d,dd)\n",
    "    "
   ]
  },
  {
   "cell_type": "code",
   "execution_count": 48,
   "metadata": {
    "collapsed": true
   },
   "outputs": [],
   "source": [
    "def lado2_2(n,j):\n",
    "    for i in range(0,4):\n",
    "                x=3**n\n",
    "                if i ==0:\n",
    "                    dd=60\n",
    "                    d=(300.00/x)\n",
    "                    lado(j,d,dd)\n",
    "                elif i ==3:\n",
    "                    dd=60\n",
    "                    d=(300.00/x)\n",
    "                    lado(j,d,dd)\n",
    "                elif i ==1:\n",
    "                    dd=360\n",
    "                    d=(300.00/x)\n",
    "                    lado(j,d,dd)\n",
    "                elif i ==2:\n",
    "                    dd=120\n",
    "                    d=(300.00/x)\n",
    "                    lado(j,d,dd)"
   ]
  },
  {
   "cell_type": "code",
   "execution_count": 49,
   "metadata": {
    "collapsed": true
   },
   "outputs": [],
   "source": [
    "def lado3(n,j):\n",
    "    for i in range(0,4):\n",
    "            x=3**n\n",
    "            if i ==0:\n",
    "                dd=0\n",
    "                j=j+dd\n",
    "                d=(300.00/x)\n",
    "                lado2(n,j)\n",
    "                lado2_1(n,j)\n",
    "                lado2_2(n,j)\n",
    "                lado2(n,j)\n",
    "                j=j-dd\n",
    "            elif i ==3:\n",
    "                dd=0\n",
    "                j=j+dd\n",
    "                d=(300.00/x)\n",
    "                lado2(n,j)\n",
    "                lado2_1(n,j)\n",
    "                lado2_2(n,j)\n",
    "                lado2(n,j)\n",
    "                j=j-dd\n",
    "            elif i ==1:\n",
    "                dd=300\n",
    "                j=j+dd\n",
    "                d=(300.00/x)\n",
    "                lado2(n,j)\n",
    "                lado2_1(n,j)\n",
    "                lado2_2(n,j)\n",
    "                lado2(n,j)\n",
    "                j=j-dd\n",
    "            elif i ==2:\n",
    "                dd=60\n",
    "                j=j+dd\n",
    "                d=(300.00/x)\n",
    "                lado2(n,j)\n",
    "                lado2_1(n,j)\n",
    "                lado2_2(n,j)\n",
    "                lado2(n,j)\n",
    "                j=j-dd"
   ]
  },
  {
   "cell_type": "code",
   "execution_count": 50,
   "metadata": {
    "collapsed": false
   },
   "outputs": [],
   "source": [
    "#con este metodo se dibuja un triangulo\n",
    "def step0():\n",
    "    t.screensize(1010,660)\n",
    "    #img0=Image.new(\"RGB\", (24, 16))\n",
    "    #draw = ImageDraw.Draw (img0)\n",
    "    y=300\n",
    "    #t.speed('fastest')\n",
    "    #t.speed('normal')\n",
    "    t.bgcolor(\"black\")\n",
    "    t.pencolor(\"white\")\n",
    "    t.hideturtle()\n",
    "    t.forward(y)\n",
    "    t.setheading(120)\n",
    "    t.forward(y)\n",
    "    t.setheading(240)\n",
    "    t.forward(y)\n",
    "    #img0.save(\"triangulo.jpeg\")\n",
    "    #img0.show()"
   ]
  },
  {
   "cell_type": "code",
   "execution_count": 51,
   "metadata": {
    "collapsed": false
   },
   "outputs": [],
   "source": [
    "#este metodo dibuja la segunda figura\n",
    "def step1():\n",
    "    t.speed('fastest')\n",
    "    t.bgcolor(\"black\")\n",
    "    t.pencolor(\"white\")\n",
    "    t.hideturtle()\n",
    "    n=1\n",
    "    for i in range(0,3):\n",
    "        j=i*120\n",
    "        x=3**n\n",
    "        d=(300/x)\n",
    "        dd=0\n",
    "        lado(j,d,dd)\n",
    "#    print d\n",
    "#    print x\n",
    "    "
   ]
  },
  {
   "cell_type": "code",
   "execution_count": 52,
   "metadata": {
    "collapsed": false,
    "scrolled": true
   },
   "outputs": [],
   "source": [
    "def step2():\n",
    "    t.speed('fastest')\n",
    "    t.bgcolor(\"black\")\n",
    "    t.pencolor(\"white\")\n",
    "    t.hideturtle()\n",
    "    n=2\n",
    "    for k in range (0,3):\n",
    "        j=k*120\n",
    "        lado2(n,j)"
   ]
  },
  {
   "cell_type": "code",
   "execution_count": 53,
   "metadata": {
    "collapsed": false
   },
   "outputs": [],
   "source": [
    "def step3():\n",
    "    t.speed('fastest')\n",
    "    t.bgcolor(\"black\")\n",
    "    t.pencolor(\"white\")\n",
    "    t.hideturtle()\n",
    "    n=3\n",
    "    for k in range(0,3):\n",
    "        x=3**n\n",
    "        j=k*120\n",
    "        lado2(n,j)\n",
    "        lado2_1(n,j)\n",
    "        lado2_2(n,j)\n",
    "        lado2(n,j)"
   ]
  },
  {
   "cell_type": "code",
   "execution_count": 54,
   "metadata": {
    "collapsed": false
   },
   "outputs": [],
   "source": [
    "def step4():\n",
    "    t.speed('fastest')\n",
    "    t.bgcolor(\"black\")\n",
    "    t.pencolor(\"white\")\n",
    "    t.hideturtle()\n",
    "    n=4\n",
    "    for k in range(0,3):\n",
    "        j=k*120\n",
    "        lado3(n,j)\n",
    "        "
   ]
  },
  {
   "cell_type": "code",
   "execution_count": 55,
   "metadata": {
    "collapsed": false
   },
   "outputs": [],
   "source": [
    "def step5():\n",
    "    t.speed('fastest')\n",
    "    t.bgcolor(\"black\")\n",
    "    t.pencolor(\"white\")\n",
    "    t.hideturtle()\n",
    "    n=5\n",
    "    for k in range(0,3):\n",
    "        x=3**n\n",
    "        j=k*120\n",
    "        for i in range(0,4):\n",
    "            if i ==0:\n",
    "                dd=0\n",
    "                j=j+dd\n",
    "                d=(300.00/x)\n",
    "                lado3(n,j)\n",
    "                j=j-dd\n",
    "            elif i ==3:\n",
    "                dd=0\n",
    "                j=j+dd\n",
    "                d=(300.00/x)\n",
    "                lado3(n,j)\n",
    "                j=j-dd\n",
    "            elif i ==1:\n",
    "                dd=300\n",
    "                j=j+dd\n",
    "                d=(300.00/x)\n",
    "                lado3(n,j)\n",
    "                j=j-dd\n",
    "            elif i ==2:\n",
    "                dd=60\n",
    "                j=j+dd\n",
    "                d=(300.00/x)\n",
    "                lado3(n,j)\n",
    "                j=j-dd\n"
   ]
  },
  {
   "cell_type": "code",
   "execution_count": 56,
   "metadata": {
    "collapsed": false,
    "scrolled": true
   },
   "outputs": [],
   "source": [
    "def dibuja_panel():\n",
    "    t.penup()\n",
    "    t.goto(-495,90)\n",
    "    t.pendown()\n",
    "    step0()\n",
    "    t.penup()\n",
    "    t.goto(-165,90)\n",
    "    t.pendown()\n",
    "    step1()\n",
    "    t.penup()\n",
    "    t.goto(165,90)\n",
    "    t.pendown()\n",
    "    step2()\n",
    "    t.penup()\n",
    "    t.goto(-495,-275)\n",
    "    t.pendown()\n",
    "    step3()\n",
    "    t.penup()\n",
    "    t.goto(-165,-275)\n",
    "    t.pendown()\n",
    "    step4()\n",
    "    t.penup()\n",
    "    t.goto(165,-275)\n",
    "    t.pendown()\n",
    "    step5()"
   ]
  }
 ],
 "metadata": {
  "kernelspec": {
   "display_name": "Python 2",
   "language": "python",
   "name": "python2"
  },
  "language_info": {
   "codemirror_mode": {
    "name": "ipython",
    "version": 2
   },
   "file_extension": ".py",
   "mimetype": "text/x-python",
   "name": "python",
   "nbconvert_exporter": "python",
   "pygments_lexer": "ipython2",
   "version": "2.7.6"
  }
 },
 "nbformat": 4,
 "nbformat_minor": 0
}
