{
 "cells": [
  {
   "cell_type": "code",
   "execution_count": 1,
   "metadata": {
    "collapsed": false
   },
   "outputs": [
    {
     "name": "stdout",
     "output_type": "stream",
     "text": [
      "Populating the interactive namespace from numpy and matplotlib\n"
     ]
    }
   ],
   "source": [
    "%pylab inline\n",
    "import scipy\n",
    "import sympy\n",
    "import matplotlib.pyplot as plt"
   ]
  },
  {
   "cell_type": "code",
   "execution_count": 2,
   "metadata": {
    "collapsed": false
   },
   "outputs": [],
   "source": [
    "def puntos(numero_puntos):\n",
    "    n=numero_puntos\n",
    "    posiciones=np.random.rand(n,2)\n",
    "    return posiciones\n",
    "\n"
   ]
  },
  {
   "cell_type": "code",
   "execution_count": 3,
   "metadata": {
    "collapsed": false
   },
   "outputs": [],
   "source": [
    "def distancias(posiciones):\n",
    "    distancias=[]\n",
    "    n=len(posiciones)\n",
    "    for i in range(n):\n",
    "            for k in range(n):\n",
    "                if k>i:\n",
    "                    distancias.append(sqrt((posiciones[i][0]-posiciones[k][0])**2+(posiciones[i][1]-posiciones[k][1])**2))\n",
    "    return distancias"
   ]
  },
  {
   "cell_type": "code",
   "execution_count": 4,
   "metadata": {
    "collapsed": false
   },
   "outputs": [
    {
     "name": "stdout",
     "output_type": "stream",
     "text": [
      "0.0534825056554\n"
     ]
    }
   ],
   "source": [
    "tent=distancias(puntos(10))\n",
    "menor=1.\n",
    "for i in range(len(tent)):\n",
    "    if tent[i]<menor:\n",
    "        menor=tent[i]\n",
    "print menor\n",
    "# habria que sacar n veces la distancia minima y asi mismo hacer el experimento para diferentes valores"
   ]
  },
  {
   "cell_type": "code",
   "execution_count": 5,
   "metadata": {
    "collapsed": false
   },
   "outputs": [],
   "source": [
    "def menor(distancias):\n",
    "    menor=1.\n",
    "    for i in range(len(distancias)):\n",
    "        if distancias[i]<menor:\n",
    "            menor=distancias[i]\n",
    "    return menor"
   ]
  },
  {
   "cell_type": "code",
   "execution_count": 6,
   "metadata": {
    "collapsed": false
   },
   "outputs": [],
   "source": [
    "def experimento(sample_number, rango):\n",
    "    s=sample_number\n",
    "    r=rango\n",
    "    datos=np.zeros(s)\n",
    "    g=r-2\n",
    "    grafica=np.zeros((r,2))\n",
    "    x=[]\n",
    "    y=[]\n",
    "    for i in range(2,r):\n",
    "        for k in range(s):\n",
    "            datos[k]=menor(distancias(puntos(i)))\n",
    "            #print datos[k]\n",
    "        promedio=np.average(datos)\n",
    "        #print promedio\n",
    "        grafica[i]=(i,promedio)\n",
    "        #print grafica[i]\n",
    "    for i in range(2,r):\n",
    "        x.append(grafica[i][0])\n",
    "        y.append(grafica[i][1])\n",
    "    \n",
    "    plt.figure(figsize=(10,10))\n",
    "    plt.loglog(x,y,'bo', color='teal')\n",
    "    plt.title(\"distancias minimas promedio\", fontsize=30)\n",
    "    plt.xlabel(r\"\"\"$N$\"\"\", fontsize=20)\n",
    "    plt.ylabel(r\"\"\"$Dm$\"\"\", fontsize=20)\n",
    "    plt.grid\n",
    "    plt.show\n",
    "   "
   ]
  },
  {
   "cell_type": "code",
   "execution_count": 10,
   "metadata": {
    "collapsed": false
   },
   "outputs": [
    {
     "data": {
      "image/png": "[encoded data removed]",
      "text/plain": [
       "<matplotlib.figure.Figure at 0x7fcfb8176450>"
      ]
     },
     "metadata": {},
     "output_type": "display_data"
    }
   ],
   "source": [
    "experimento(10000,40)"
   ]
  },
  {
   "cell_type": "code",
   "execution_count": null,
   "metadata": {
    "collapsed": true
   },
   "outputs": [],
   "source": []
  }
 ],
 "metadata": {
  "kernelspec": {
   "display_name": "Python 2",
   "language": "python",
   "name": "python2"
  },
  "language_info": {
   "codemirror_mode": {
    "name": "ipython",
    "version": 2
   },
   "file_extension": ".py",
   "mimetype": "text/x-python",
   "name": "python",
   "nbconvert_exporter": "python",
   "pygments_lexer": "ipython2",
   "version": "2.7.6"
  }
 },
 "nbformat": 4,
 "nbformat_minor": 0
}
