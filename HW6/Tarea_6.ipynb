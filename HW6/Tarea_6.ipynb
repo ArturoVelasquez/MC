{
 "cells": [
  {
   "cell_type": "code",
   "execution_count": 124,
   "metadata": {
    "collapsed": true
   },
   "outputs": [],
   "source": [
    "import matplotlib\n",
    "import numpy as np\n",
    "from scipy import *\n",
    "from sympy import *\n",
    "init_printing(use_unicode=True)"
   ]
  },
  {
   "cell_type": "code",
   "execution_count": 125,
   "metadata": {
    "collapsed": false
   },
   "outputs": [],
   "source": [
    "# Primera aproximacion a el calculo simbolico con sympy\n",
    "def simple(o1,o2):\n",
    "    t1,t2=symbols('t%d t%d'%(o1,o2))\n",
    "    denominador=(t1-t2)**o1\n",
    "    numerador=(t1+t2)**o2\n",
    "    division=div(numerador, denominador)\n",
    "    return division"
   ]
  },
  {
   "cell_type": "code",
   "execution_count": 126,
   "metadata": {
    "collapsed": false
   },
   "outputs": [
    {
     "data": {
      "image/png": "[encoded data removed]",
      "text/latex": [
       "$$\\begin{pmatrix}t_{5}^{2} + 12 t_{5} t_{7} + 71 t_{7}^{2}, & 280 t_{5}^{4} t_{7}^{3} - 560 t_{5}^{3} t_{7}^{4} + 672 t_{5}^{2} t_{7}^{5} - 336 t_{5} t_{7}^{6} + 72 t_{7}^{7}\\end{pmatrix}$$"
      ],
      "text/plain": [
       "⎛  2                   2        4   3         3   4         2   5            6\n",
       "⎝t₅  + 12⋅t₅⋅t₇ + 71⋅t₇ , 280⋅t₅ ⋅t₇  - 560⋅t₅ ⋅t₇  + 672⋅t₅ ⋅t₇  - 336⋅t₅⋅t₇ \n",
       "\n",
       "        7⎞\n",
       " + 72⋅t₇ ⎠"
      ]
     },
     "execution_count": 126,
     "metadata": {},
     "output_type": "execute_result"
    }
   ],
   "source": [
    "simple(5,7)"
   ]
  },
  {
   "cell_type": "code",
   "execution_count": 127,
   "metadata": {
    "collapsed": true
   },
   "outputs": [],
   "source": [
    "# Segunda aproximacion a sympy\n",
    "def simple2(n):\n",
    "    x=var('t%d'%n)\n",
    "    return x**n"
   ]
  },
  {
   "cell_type": "code",
   "execution_count": 128,
   "metadata": {
    "collapsed": false
   },
   "outputs": [
    {
     "data": {
      "image/png": "[encoded data removed]",
      "text/latex": [
       "$$t_{4}^{4}$$"
      ],
      "text/plain": [
       "  4\n",
       "t₄ "
      ]
     },
     "execution_count": 128,
     "metadata": {},
     "output_type": "execute_result"
    }
   ],
   "source": [
    "simple2(4)"
   ]
  },
  {
   "cell_type": "code",
   "execution_count": 134,
   "metadata": {
    "collapsed": false
   },
   "outputs": [],
   "source": [
    "# Primer punto de la tarea parte a\n",
    "def legendre(orden):\n",
    "    # Se asigna un valor simbolico a la as variable t y h  \n",
    "    t=var('t')\n",
    "    h=var('h')\n",
    "    \n",
    "    # Se declaran dos arreglos uno para los valores de f y sus subindices, lo mismo para t\n",
    "    F=[]\n",
    "    T=[]\n",
    "    \n",
    "    # Se inicializa los valores de t y f segun el orden que entro por parametro\n",
    "    for i in range(orden):\n",
    "        F.append(var('f%d'%i))\n",
    "        T.append(var('t%d'%i))\n",
    "    \n",
    "    # Se inicializa la variable d la expresion para el polinomio \n",
    "    adam=0\n",
    "    for n in range(orden):\n",
    "        adamParcial=F[n]\n",
    "        for i in range(orden):\n",
    "            if i!=n:\n",
    "                adamParcial=adamParcial*(t-T[i])/(T[n]-T[i])   \n",
    "        adam=adam+adamParcial\n",
    "    return adam\n",
    "\n",
    "    \n",
    "   \n",
    "    "
   ]
  },
  {
   "cell_type": "code",
   "execution_count": 162,
   "metadata": {
    "collapsed": true
   },
   "outputs": [],
   "source": [
    "# segundo punto a partir de modificar un poco el metodo anterior\n",
    "def adams1(orden):\n",
    "    # Se asigna un valor simbolico a la as variable t y h  \n",
    "    t=var('t')\n",
    "    h=var('h')\n",
    "    \n",
    "    # Se declaran dos arreglos uno para los valores de f y sus subindices, lo mismo para t\n",
    "    F=[]\n",
    "    T=[]\n",
    "    \n",
    "    # Se inicializa los valores de t y f segun el orden que entro por parametro\n",
    "    for i in range(orden):\n",
    "        F.append(var('f%d'%i))\n",
    "        T.append(var('t%d'%i))\n",
    "    print T[0]\n",
    "    # Se inicializa la variable d la expresion para el polinomio \n",
    "    adam=0\n",
    "    for n in range(orden):\n",
    "        for k in range(1,orden):\n",
    "            T[k]=T[0]-(h*k)\n",
    "        adamParcial=F[n]\n",
    "        for i in range(orden):\n",
    "            if i!=n:\n",
    "                adamParcial=adamParcial*(t-T[i])/(T[n]-T[i])   \n",
    "        adam=adam+adamParcial\n",
    "    \n",
    "    legendre=integrate(adam,(t,T[0],T[0]+h))\n",
    "    return simplify(legendre)"
   ]
  },
  {
   "cell_type": "code",
   "execution_count": 212,
   "metadata": {
    "collapsed": false
   },
   "outputs": [],
   "source": [
    "def adams(order):\n",
    "    h=var('h')\n",
    "    adam=legendre(order)\n",
    "    variable=[]\n",
    "    replace=[]\n",
    "    for l in range(1,order):\n",
    "        variable.append(var('t%d'%l))\n",
    "        replace.append(t0-l*h)\n",
    "    for k in range(1,order):\n",
    "        adam=adam.xreplace({variable[k-1]:replace[k-1]})\n",
    "    adams=integrate(adam,(t,t0,t0+h))\n",
    "    return simplify(adams)"
   ]
  },
  {
   "cell_type": "code",
   "execution_count": 210,
   "metadata": {
    "collapsed": false
   },
   "outputs": [
    {
     "data": {
      "image/png": "[encoded data removed]",
      "text/latex": [
       "$$\\frac{f_{0} \\left(t - y\\right)}{t_{0} - y} + \\frac{f_{1} \\left(t - t_{0}\\right)}{- t_{0} + y}$$"
      ],
      "text/plain": [
       "f₀⋅(t - y)   f₁⋅(t - t₀)\n",
       "────────── + ───────────\n",
       "  t₀ - y       -t₀ + y  "
      ]
     },
     "execution_count": 210,
     "metadata": {},
     "output_type": "execute_result"
    }
   ],
   "source": [
    "# Aproximacion a la funcion xreplace de sympy\n",
    "adam=legendre(2)\n",
    "H=[t,t1,t2]\n",
    "r=[t0-2*h,y]\n",
    "adam.xreplace({H[1]:r[1]})"
   ]
  },
  {
   "cell_type": "code",
   "execution_count": 211,
   "metadata": {
    "collapsed": false
   },
   "outputs": [
    {
     "name": "stdout",
     "output_type": "stream",
     "text": [
      "[t1] [-h + t0]\n",
      "[t1, t2] [-h + t0, -2*h + t0]\n"
     ]
    },
    {
     "data": {
      "image/png": "[encoded data removed]",
      "text/latex": [
       "$$\\frac{h}{12} \\left(23 f_{0} - 16 f_{1} + 5 f_{2}\\right)$$"
      ],
      "text/plain": [
       "h⋅(23⋅f₀ - 16⋅f₁ + 5⋅f₂)\n",
       "────────────────────────\n",
       "           12           "
      ]
     },
     "execution_count": 211,
     "metadata": {},
     "output_type": "execute_result"
    }
   ],
   "source": [
    "adams(3)"
   ]
  },
  {
   "cell_type": "code",
   "execution_count": 158,
   "metadata": {
    "collapsed": false
   },
   "outputs": [],
   "source": [
    "def prueba2 (orden):\n",
    "    separable=legendre(orden)\n",
    "    print separable\n",
    "    s= separable.xreplace({t1: 2})\n",
    "    return s"
   ]
  },
  {
   "cell_type": "code",
   "execution_count": 159,
   "metadata": {
    "collapsed": false
   },
   "outputs": [
    {
     "name": "stdout",
     "output_type": "stream",
     "text": [
      "x**4 + x**2\n",
      "x**4 + x**2\n"
     ]
    }
   ],
   "source": [
    "t=(x**2 + x**4)\n",
    "print t\n",
    "t.xreplace({x: y})\n",
    "print t\n",
    "#t=x**2+y**2\n",
    "#t.subs(x,y)\n",
    "#print t"
   ]
  },
  {
   "cell_type": "code",
   "execution_count": 160,
   "metadata": {
    "collapsed": false
   },
   "outputs": [
    {
     "name": "stdout",
     "output_type": "stream",
     "text": [
      "f0*(t - t1)/(t0 - t1) + f1*(t - t0)/(-t0 + t1)\n"
     ]
    },
    {
     "data": {
      "image/png": "[encoded data removed]",
      "text/latex": [
       "$$\\frac{f_{0} \\left(t - 2\\right)}{t_{0} - 2} + \\frac{f_{1} \\left(t - t_{0}\\right)}{- t_{0} + 2}$$"
      ],
      "text/plain": [
       "f₀⋅(t - 2)   f₁⋅(t - t₀)\n",
       "────────── + ───────────\n",
       "  t₀ - 2       -t₀ + 2  "
      ]
     },
     "execution_count": 160,
     "metadata": {},
     "output_type": "execute_result"
    }
   ],
   "source": [
    "prueba2(2)"
   ]
  },
  {
   "cell_type": "code",
   "execution_count": 92,
   "metadata": {
    "collapsed": false
   },
   "outputs": [
    {
     "data": {
      "image/png": "[encoded data removed]",
      "text/latex": [
       "$$\\frac{f_{0} \\left(t - t_{1}\\right) \\left(t - t_{2}\\right)}{\\left(t_{0} - t_{1}\\right) \\left(t_{0} - t_{2}\\right)} + \\frac{f_{1} \\left(t - t_{0}\\right) \\left(t - t_{2}\\right)}{\\left(- t_{0} + t_{1}\\right) \\left(t_{1} - t_{2}\\right)} + \\frac{f_{2} \\left(t - t_{0}\\right) \\left(t - t_{1}\\right)}{\\left(- t_{0} + t_{2}\\right) \\left(- t_{1} + t_{2}\\right)}$$"
      ],
      "text/plain": [
       "f₀⋅(t - t₁)⋅(t - t₂)   f₁⋅(t - t₀)⋅(t - t₂)    f₂⋅(t - t₀)⋅(t - t₁)\n",
       "──────────────────── + ──────────────────── + ─────────────────────\n",
       "(t₀ - t₁)⋅(t₀ - t₂)    (-t₀ + t₁)⋅(t₁ - t₂)   (-t₀ + t₂)⋅(-t₁ + t₂)"
      ]
     },
     "execution_count": 92,
     "metadata": {},
     "output_type": "execute_result"
    }
   ],
   "source": [
    "prueba2(3)"
   ]
  },
  {
   "cell_type": "code",
   "execution_count": 21,
   "metadata": {
    "collapsed": false
   },
   "outputs": [
    {
     "data": {
      "image/png": "[encoded data removed]",
      "text/latex": [
       "$$x + y$$"
      ],
      "text/plain": [
       "x + y"
      ]
     },
     "execution_count": 21,
     "metadata": {},
     "output_type": "execute_result"
    }
   ],
   "source": [
    "x,y=symbols('x,y')\n",
    "Add(x,y)"
   ]
  },
  {
   "cell_type": "code",
   "execution_count": 7,
   "metadata": {
    "collapsed": true
   },
   "outputs": [],
   "source": [
    "def adams(orden):\n",
    "    for k in range(1,orden):\n",
    "            T[k]=T[0]-(h*k)\n",
    "    adam=legendre(orden)\n",
    "    adam=integrate(legendre,(t,T[0],T[0]+h))\n",
    "    return simplify(adam)"
   ]
  },
  {
   "cell_type": "code",
   "execution_count": 213,
   "metadata": {
    "collapsed": false
   },
   "outputs": [
    {
     "data": {
      "image/png": "[encoded data removed]",
      "text/latex": [
       "$$\\frac{f_{0} \\left(t - t_{1}\\right) \\left(t - t_{2}\\right) \\left(t - t_{3}\\right) \\left(t - t_{4}\\right)}{\\left(t_{0} - t_{1}\\right) \\left(t_{0} - t_{2}\\right) \\left(t_{0} - t_{3}\\right) \\left(t_{0} - t_{4}\\right)} + \\frac{f_{1} \\left(t - t_{0}\\right) \\left(t - t_{2}\\right) \\left(t - t_{3}\\right) \\left(t - t_{4}\\right)}{\\left(- t_{0} + t_{1}\\right) \\left(t_{1} - t_{2}\\right) \\left(t_{1} - t_{3}\\right) \\left(t_{1} - t_{4}\\right)} + \\frac{f_{2} \\left(t - t_{0}\\right) \\left(t - t_{1}\\right) \\left(t - t_{3}\\right) \\left(t - t_{4}\\right)}{\\left(- t_{0} + t_{2}\\right) \\left(- t_{1} + t_{2}\\right) \\left(t_{2} - t_{3}\\right) \\left(t_{2} - t_{4}\\right)} + \\frac{f_{3} \\left(t - t_{0}\\right) \\left(t - t_{1}\\right) \\left(t - t_{2}\\right) \\left(t - t_{4}\\right)}{\\left(- t_{0} + t_{3}\\right) \\left(- t_{1} + t_{3}\\right) \\left(- t_{2} + t_{3}\\right) \\left(t_{3} - t_{4}\\right)} + \\frac{f_{4} \\left(t - t_{0}\\right) \\left(t - t_{1}\\right) \\left(t - t_{2}\\right) \\left(t - t_{3}\\right)}{\\left(- t_{0} + t_{4}\\right) \\left(- t_{1} + t_{4}\\right) \\left(- t_{2} + t_{4}\\right) \\left(- t_{3} + t_{4}\\right)}$$"
      ],
      "text/plain": [
       " f₀⋅(t - t₁)⋅(t - t₂)⋅(t - t₃)⋅(t - t₄)    f₁⋅(t - t₀)⋅(t - t₂)⋅(t - t₃)⋅(t - \n",
       "─────────────────────────────────────── + ────────────────────────────────────\n",
       "(t₀ - t₁)⋅(t₀ - t₂)⋅(t₀ - t₃)⋅(t₀ - t₄)   (-t₀ + t₁)⋅(t₁ - t₂)⋅(t₁ - t₃)⋅(t₁ -\n",
       "\n",
       "t₄)      f₂⋅(t - t₀)⋅(t - t₁)⋅(t - t₃)⋅(t - t₄)      f₃⋅(t - t₀)⋅(t - t₁)⋅(t -\n",
       "──── + ───────────────────────────────────────── + ───────────────────────────\n",
       " t₄)   (-t₀ + t₂)⋅(-t₁ + t₂)⋅(t₂ - t₃)⋅(t₂ - t₄)   (-t₀ + t₃)⋅(-t₁ + t₃)⋅(-t₂ \n",
       "\n",
       " t₂)⋅(t - t₄)        f₄⋅(t - t₀)⋅(t - t₁)⋅(t - t₂)⋅(t - t₃)  \n",
       "─────────────── + ───────────────────────────────────────────\n",
       "+ t₃)⋅(t₃ - t₄)   (-t₀ + t₄)⋅(-t₁ + t₄)⋅(-t₂ + t₄)⋅(-t₃ + t₄)"
      ]
     },
     "execution_count": 213,
     "metadata": {},
     "output_type": "execute_result"
    }
   ],
   "source": [
    "legendre(5)"
   ]
  },
  {
   "cell_type": "code",
   "execution_count": 31,
   "metadata": {
    "collapsed": false
   },
   "outputs": [],
   "source": [
    "def prueba (n):\n",
    "    s=[]\n",
    "    for i in range(n):\n",
    "        s.append(var('d%d'%i))\n",
    "    return s\n"
   ]
  },
  {
   "cell_type": "code",
   "execution_count": 32,
   "metadata": {
    "collapsed": false
   },
   "outputs": [
    {
     "data": {
      "image/png": "[encoded data removed]",
      "text/latex": [
       "$$\\begin{bmatrix}d_{0}, & d_{1}, & d_{2}, & d_{3}\\end{bmatrix}$$"
      ],
      "text/plain": [
       "[d₀, d₁, d₂, d₃]"
      ]
     },
     "execution_count": 32,
     "metadata": {},
     "output_type": "execute_result"
    }
   ],
   "source": [
    "prueba(4)"
   ]
  },
  {
   "cell_type": "code",
   "execution_count": 11,
   "metadata": {
    "collapsed": false
   },
   "outputs": [],
   "source": [
    "t=var('t')"
   ]
  },
  {
   "cell_type": "code",
   "execution_count": 136,
   "metadata": {
    "collapsed": false
   },
   "outputs": [
    {
     "data": {
      "image/png": "[encoded data removed]",
      "text/latex": [
       "$$t_{5}$$"
      ],
      "text/plain": [
       "t₅"
      ]
     },
     "execution_count": 136,
     "metadata": {},
     "output_type": "execute_result"
    }
   ],
   "source": [
    "var('t%d'%5)"
   ]
  },
  {
   "cell_type": "code",
   "execution_count": 1,
   "metadata": {
    "collapsed": false
   },
   "outputs": [],
   "source": [
    "def cosas(i):\n",
    "    mensaje =('Tn%d'%(i))\n",
    "    \n",
    "    print mensaje\n",
    "\n"
   ]
  },
  {
   "cell_type": "code",
   "execution_count": 2,
   "metadata": {
    "collapsed": false
   },
   "outputs": [
    {
     "name": "stdout",
     "output_type": "stream",
     "text": [
      "Tn10\n"
     ]
    }
   ],
   "source": [
    "cosas(10)"
   ]
  },
  {
   "cell_type": "code",
   "execution_count": null,
   "metadata": {
    "collapsed": true
   },
   "outputs": [],
   "source": [
    "var"
   ]
  },
  {
   "cell_type": "code",
   "execution_count": null,
   "metadata": {
    "collapsed": false
   },
   "outputs": [],
   "source": []
  }
 ],
 "metadata": {
  "kernelspec": {
   "display_name": "Python 2",
   "language": "python",
   "name": "python2"
  },
  "language_info": {
   "codemirror_mode": {
    "name": "ipython",
    "version": 2
   },
   "file_extension": ".py",
   "mimetype": "text/x-python",
   "name": "python",
   "nbconvert_exporter": "python",
   "pygments_lexer": "ipython2",
   "version": "2.7.6"
  }
 },
 "nbformat": 4,
 "nbformat_minor": 0
}
