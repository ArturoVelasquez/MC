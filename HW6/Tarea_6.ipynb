{
 "cells": [
  {
   "cell_type": "code",
   "execution_count": 1,
   "metadata": {
    "collapsed": true
   },
   "outputs": [],
   "source": [
    "import matplotlib\n",
    "import numpy as np\n",
    "from scipy import *\n",
    "from sympy import *\n",
    "init_printing(use_unicode=True)"
   ]
  },
  {
   "cell_type": "code",
   "execution_count": 2,
   "metadata": {
    "collapsed": false
   },
   "outputs": [],
   "source": [
    "# Primera aproximacion a el calculo simbolico con sympy\n",
    "def simple(o1,o2):\n",
    "    t1,t2=symbols('t%d t%d'%(o1,o2))\n",
    "    denominador=(t1-t2)**o1\n",
    "    numerador=(t1+t2)**o2\n",
    "    division=div(numerador, denominador)\n",
    "    return division"
   ]
  },
  {
   "cell_type": "code",
   "execution_count": 3,
   "metadata": {
    "collapsed": false
   },
   "outputs": [
    {
     "data": {
      "image/png": "[encoded data removed]",
      "text/latex": [
       "$$\\begin{pmatrix}t_{5}^{2} + 12 t_{5} t_{7} + 71 t_{7}^{2}, & 280 t_{5}^{4} t_{7}^{3} - 560 t_{5}^{3} t_{7}^{4} + 672 t_{5}^{2} t_{7}^{5} - 336 t_{5} t_{7}^{6} + 72 t_{7}^{7}\\end{pmatrix}$$"
      ],
      "text/plain": [
       "⎛  2                   2        4   3         3   4         2   5            6\n",
       "⎝t₅  + 12⋅t₅⋅t₇ + 71⋅t₇ , 280⋅t₅ ⋅t₇  - 560⋅t₅ ⋅t₇  + 672⋅t₅ ⋅t₇  - 336⋅t₅⋅t₇ \n",
       "\n",
       "        7⎞\n",
       " + 72⋅t₇ ⎠"
      ]
     },
     "execution_count": 3,
     "metadata": {},
     "output_type": "execute_result"
    }
   ],
   "source": [
    "simple(5,7)"
   ]
  },
  {
   "cell_type": "code",
   "execution_count": 4,
   "metadata": {
    "collapsed": true
   },
   "outputs": [],
   "source": [
    "# Segunda aproximacion a sympy\n",
    "def simple2(n):\n",
    "    x=var('t%d'%n)\n",
    "    return x**n"
   ]
  },
  {
   "cell_type": "code",
   "execution_count": 5,
   "metadata": {
    "collapsed": false
   },
   "outputs": [
    {
     "data": {
      "image/png": "[encoded data removed]",
      "text/latex": [
       "$$t_{4}^{4}$$"
      ],
      "text/plain": [
       "  4\n",
       "t₄ "
      ]
     },
     "execution_count": 5,
     "metadata": {},
     "output_type": "execute_result"
    }
   ],
   "source": [
    "simple2(4)"
   ]
  },
  {
   "cell_type": "markdown",
   "metadata": {},
   "source": [
    "#Calculo symbolico\n",
    "##(a) Polinomios de lagrange"
   ]
  },
  {
   "cell_type": "code",
   "execution_count": 6,
   "metadata": {
    "collapsed": false
   },
   "outputs": [],
   "source": [
    "# Primer punto de la tarea parte a\n",
    "def lagrange(orden):\n",
    "    # Se asigna un valor simbolico a la as variable t   \n",
    "    t=var('t')\n",
    "    \n",
    "    # Se declaran dos arreglos uno para los valores de f y sus subindices, lo mismo para t\n",
    "    F=[]\n",
    "    T=[]\n",
    "    \n",
    "    # Se inicializa los valores de t y f segun el orden que entro por parametro\n",
    "    for i in range(orden):\n",
    "        F.append(var('f%d'%i))\n",
    "        T.append(var('t%d'%i))\n",
    "    \n",
    "    # Se inicializa la variable d la expresion para el polinomio \n",
    "    adam=0\n",
    "    \n",
    "    # Se recoren los arreglos que tinene los valores de f y t para generar el polinomio\n",
    "    for n in range(orden):\n",
    "        adamParcial=F[n]\n",
    "        for i in range(orden):\n",
    "            if i!=n:\n",
    "                adamParcial=adamParcial*(t-T[i])/(T[n]-T[i])   \n",
    "        adam=adam+adamParcial\n",
    "        \n",
    "    #La fucion retorna el polinomio\n",
    "    return adam\n",
    "\n",
    "    \n",
    "   \n",
    "    "
   ]
  },
  {
   "cell_type": "code",
   "execution_count": 7,
   "metadata": {
    "collapsed": false
   },
   "outputs": [
    {
     "data": {
      "image/png": "[encoded data removed]",
      "text/latex": [
       "$$f_{0}$$"
      ],
      "text/plain": [
       "f₀"
      ]
     },
     "execution_count": 7,
     "metadata": {},
     "output_type": "execute_result"
    }
   ],
   "source": [
    "lagrange(1)"
   ]
  },
  {
   "cell_type": "code",
   "execution_count": 8,
   "metadata": {
    "collapsed": false
   },
   "outputs": [
    {
     "data": {
      "image/png": "[encoded data removed]",
      "text/latex": [
       "$$\\frac{f_{0} \\left(t - t_{1}\\right)}{t_{0} - t_{1}} + \\frac{f_{1} \\left(t - t_{0}\\right)}{- t_{0} + t_{1}}$$"
      ],
      "text/plain": [
       "f₀⋅(t - t₁)   f₁⋅(t - t₀)\n",
       "─────────── + ───────────\n",
       "  t₀ - t₁       -t₀ + t₁ "
      ]
     },
     "execution_count": 8,
     "metadata": {},
     "output_type": "execute_result"
    }
   ],
   "source": [
    "lagrange(2)"
   ]
  },
  {
   "cell_type": "code",
   "execution_count": 9,
   "metadata": {
    "collapsed": false
   },
   "outputs": [
    {
     "data": {
      "image/png": "[encoded data removed]",
      "text/latex": [
       "$$\\frac{f_{0} \\left(t - t_{1}\\right) \\left(t - t_{2}\\right)}{\\left(t_{0} - t_{1}\\right) \\left(t_{0} - t_{2}\\right)} + \\frac{f_{1} \\left(t - t_{0}\\right) \\left(t - t_{2}\\right)}{\\left(- t_{0} + t_{1}\\right) \\left(t_{1} - t_{2}\\right)} + \\frac{f_{2} \\left(t - t_{0}\\right) \\left(t - t_{1}\\right)}{\\left(- t_{0} + t_{2}\\right) \\left(- t_{1} + t_{2}\\right)}$$"
      ],
      "text/plain": [
       "f₀⋅(t - t₁)⋅(t - t₂)   f₁⋅(t - t₀)⋅(t - t₂)    f₂⋅(t - t₀)⋅(t - t₁)\n",
       "──────────────────── + ──────────────────── + ─────────────────────\n",
       "(t₀ - t₁)⋅(t₀ - t₂)    (-t₀ + t₁)⋅(t₁ - t₂)   (-t₀ + t₂)⋅(-t₁ + t₂)"
      ]
     },
     "execution_count": 9,
     "metadata": {},
     "output_type": "execute_result"
    }
   ],
   "source": [
    "lagrange(3)"
   ]
  },
  {
   "cell_type": "code",
   "execution_count": 10,
   "metadata": {
    "collapsed": false
   },
   "outputs": [
    {
     "data": {
      "image/png": "[encoded data removed]",
      "text/latex": [
       "$$\\frac{f_{0} \\left(t - t_{1}\\right) \\left(t - t_{2}\\right) \\left(t - t_{3}\\right) \\left(t - t_{4}\\right) \\left(t - t_{5}\\right) \\left(t - t_{6}\\right) \\left(t - t_{7}\\right) \\left(t - t_{8}\\right) \\left(t - t_{9}\\right)}{\\left(t_{0} - t_{1}\\right) \\left(t_{0} - t_{2}\\right) \\left(t_{0} - t_{3}\\right) \\left(t_{0} - t_{4}\\right) \\left(t_{0} - t_{5}\\right) \\left(t_{0} - t_{6}\\right) \\left(t_{0} - t_{7}\\right) \\left(t_{0} - t_{8}\\right) \\left(t_{0} - t_{9}\\right)} + \\frac{f_{1} \\left(t - t_{0}\\right) \\left(t - t_{2}\\right) \\left(t - t_{3}\\right) \\left(t - t_{4}\\right) \\left(t - t_{5}\\right) \\left(t - t_{6}\\right) \\left(t - t_{7}\\right) \\left(t - t_{8}\\right) \\left(t - t_{9}\\right)}{\\left(- t_{0} + t_{1}\\right) \\left(t_{1} - t_{2}\\right) \\left(t_{1} - t_{3}\\right) \\left(t_{1} - t_{4}\\right) \\left(t_{1} - t_{5}\\right) \\left(t_{1} - t_{6}\\right) \\left(t_{1} - t_{7}\\right) \\left(t_{1} - t_{8}\\right) \\left(t_{1} - t_{9}\\right)} + \\frac{f_{2} \\left(t - t_{0}\\right) \\left(t - t_{1}\\right) \\left(t - t_{3}\\right) \\left(t - t_{4}\\right) \\left(t - t_{5}\\right) \\left(t - t_{6}\\right) \\left(t - t_{7}\\right) \\left(t - t_{8}\\right) \\left(t - t_{9}\\right)}{\\left(- t_{0} + t_{2}\\right) \\left(- t_{1} + t_{2}\\right) \\left(t_{2} - t_{3}\\right) \\left(t_{2} - t_{4}\\right) \\left(t_{2} - t_{5}\\right) \\left(t_{2} - t_{6}\\right) \\left(t_{2} - t_{7}\\right) \\left(t_{2} - t_{8}\\right) \\left(t_{2} - t_{9}\\right)} + \\frac{f_{3} \\left(t - t_{0}\\right) \\left(t - t_{1}\\right) \\left(t - t_{2}\\right) \\left(t - t_{4}\\right) \\left(t - t_{5}\\right) \\left(t - t_{6}\\right) \\left(t - t_{7}\\right) \\left(t - t_{8}\\right) \\left(t - t_{9}\\right)}{\\left(- t_{0} + t_{3}\\right) \\left(- t_{1} + t_{3}\\right) \\left(- t_{2} + t_{3}\\right) \\left(t_{3} - t_{4}\\right) \\left(t_{3} - t_{5}\\right) \\left(t_{3} - t_{6}\\right) \\left(t_{3} - t_{7}\\right) \\left(t_{3} - t_{8}\\right) \\left(t_{3} - t_{9}\\right)} + \\frac{f_{4} \\left(t - t_{0}\\right) \\left(t - t_{1}\\right) \\left(t - t_{2}\\right) \\left(t - t_{3}\\right) \\left(t - t_{5}\\right) \\left(t - t_{6}\\right) \\left(t - t_{7}\\right) \\left(t - t_{8}\\right) \\left(t - t_{9}\\right)}{\\left(- t_{0} + t_{4}\\right) \\left(- t_{1} + t_{4}\\right) \\left(- t_{2} + t_{4}\\right) \\left(- t_{3} + t_{4}\\right) \\left(t_{4} - t_{5}\\right) \\left(t_{4} - t_{6}\\right) \\left(t_{4} - t_{7}\\right) \\left(t_{4} - t_{8}\\right) \\left(t_{4} - t_{9}\\right)} + \\frac{f_{5} \\left(t - t_{0}\\right) \\left(t - t_{1}\\right) \\left(t - t_{2}\\right) \\left(t - t_{3}\\right) \\left(t - t_{4}\\right) \\left(t - t_{6}\\right) \\left(t - t_{7}\\right) \\left(t - t_{8}\\right) \\left(t - t_{9}\\right)}{\\left(- t_{0} + t_{5}\\right) \\left(- t_{1} + t_{5}\\right) \\left(- t_{2} + t_{5}\\right) \\left(- t_{3} + t_{5}\\right) \\left(- t_{4} + t_{5}\\right) \\left(t_{5} - t_{6}\\right) \\left(t_{5} - t_{7}\\right) \\left(t_{5} - t_{8}\\right) \\left(t_{5} - t_{9}\\right)} + \\frac{f_{6} \\left(t - t_{0}\\right) \\left(t - t_{1}\\right) \\left(t - t_{2}\\right) \\left(t - t_{3}\\right) \\left(t - t_{4}\\right) \\left(t - t_{5}\\right) \\left(t - t_{7}\\right) \\left(t - t_{8}\\right) \\left(t - t_{9}\\right)}{\\left(- t_{0} + t_{6}\\right) \\left(- t_{1} + t_{6}\\right) \\left(- t_{2} + t_{6}\\right) \\left(- t_{3} + t_{6}\\right) \\left(- t_{4} + t_{6}\\right) \\left(- t_{5} + t_{6}\\right) \\left(t_{6} - t_{7}\\right) \\left(t_{6} - t_{8}\\right) \\left(t_{6} - t_{9}\\right)} + \\frac{f_{7} \\left(t - t_{0}\\right) \\left(t - t_{1}\\right) \\left(t - t_{2}\\right) \\left(t - t_{3}\\right) \\left(t - t_{4}\\right) \\left(t - t_{5}\\right) \\left(t - t_{6}\\right) \\left(t - t_{8}\\right) \\left(t - t_{9}\\right)}{\\left(- t_{0} + t_{7}\\right) \\left(- t_{1} + t_{7}\\right) \\left(- t_{2} + t_{7}\\right) \\left(- t_{3} + t_{7}\\right) \\left(- t_{4} + t_{7}\\right) \\left(- t_{5} + t_{7}\\right) \\left(- t_{6} + t_{7}\\right) \\left(t_{7} - t_{8}\\right) \\left(t_{7} - t_{9}\\right)} + \\frac{f_{8} \\left(t - t_{0}\\right) \\left(t - t_{1}\\right) \\left(t - t_{2}\\right) \\left(t - t_{3}\\right) \\left(t - t_{4}\\right) \\left(t - t_{5}\\right) \\left(t - t_{6}\\right) \\left(t - t_{7}\\right) \\left(t - t_{9}\\right)}{\\left(- t_{0} + t_{8}\\right) \\left(- t_{1} + t_{8}\\right) \\left(- t_{2} + t_{8}\\right) \\left(- t_{3} + t_{8}\\right) \\left(- t_{4} + t_{8}\\right) \\left(- t_{5} + t_{8}\\right) \\left(- t_{6} + t_{8}\\right) \\left(- t_{7} + t_{8}\\right) \\left(t_{8} - t_{9}\\right)} + \\frac{f_{9} \\left(t - t_{0}\\right) \\left(t - t_{1}\\right) \\left(t - t_{2}\\right) \\left(t - t_{3}\\right) \\left(t - t_{4}\\right) \\left(t - t_{5}\\right) \\left(t - t_{6}\\right) \\left(t - t_{7}\\right) \\left(t - t_{8}\\right)}{\\left(- t_{0} + t_{9}\\right) \\left(- t_{1} + t_{9}\\right) \\left(- t_{2} + t_{9}\\right) \\left(- t_{3} + t_{9}\\right) \\left(- t_{4} + t_{9}\\right) \\left(- t_{5} + t_{9}\\right) \\left(- t_{6} + t_{9}\\right) \\left(- t_{7} + t_{9}\\right) \\left(- t_{8} + t_{9}\\right)}$$"
      ],
      "text/plain": [
       "   f₀⋅(t - t₁)⋅(t - t₂)⋅(t - t₃)⋅(t - t₄)⋅(t - t₅)⋅(t - t₆)⋅(t - t₇)⋅(t - t₈)⋅\n",
       "──────────────────────────────────────────────────────────────────────────────\n",
       "(t₀ - t₁)⋅(t₀ - t₂)⋅(t₀ - t₃)⋅(t₀ - t₄)⋅(t₀ - t₅)⋅(t₀ - t₆)⋅(t₀ - t₇)⋅(t₀ - t₈\n",
       "\n",
       "(t - t₉)         f₁⋅(t - t₀)⋅(t - t₂)⋅(t - t₃)⋅(t - t₄)⋅(t - t₅)⋅(t - t₆)⋅(t -\n",
       "─────────── + ────────────────────────────────────────────────────────────────\n",
       ")⋅(t₀ - t₉)   (-t₀ + t₁)⋅(t₁ - t₂)⋅(t₁ - t₃)⋅(t₁ - t₄)⋅(t₁ - t₅)⋅(t₁ - t₆)⋅(t₁\n",
       "\n",
       " t₇)⋅(t - t₈)⋅(t - t₉)           f₂⋅(t - t₀)⋅(t - t₁)⋅(t - t₃)⋅(t - t₄)⋅(t - t\n",
       "────────────────────────── + ─────────────────────────────────────────────────\n",
       " - t₇)⋅(t₁ - t₈)⋅(t₁ - t₉)   (-t₀ + t₂)⋅(-t₁ + t₂)⋅(t₂ - t₃)⋅(t₂ - t₄)⋅(t₂ - t\n",
       "\n",
       "₅)⋅(t - t₆)⋅(t - t₇)⋅(t - t₈)⋅(t - t₉)           f₃⋅(t - t₀)⋅(t - t₁)⋅(t - t₂)\n",
       "────────────────────────────────────────── + ─────────────────────────────────\n",
       "₅)⋅(t₂ - t₆)⋅(t₂ - t₇)⋅(t₂ - t₈)⋅(t₂ - t₉)   (-t₀ + t₃)⋅(-t₁ + t₃)⋅(-t₂ + t₃)⋅\n",
       "\n",
       "⋅(t - t₄)⋅(t - t₅)⋅(t - t₆)⋅(t - t₇)⋅(t - t₈)⋅(t - t₉)             f₄⋅(t - t₀)\n",
       "─────────────────────────────────────────────────────────── + ────────────────\n",
       "(t₃ - t₄)⋅(t₃ - t₅)⋅(t₃ - t₆)⋅(t₃ - t₇)⋅(t₃ - t₈)⋅(t₃ - t₉)   (-t₀ + t₄)⋅(-t₁ \n",
       "\n",
       "⋅(t - t₁)⋅(t - t₂)⋅(t - t₃)⋅(t - t₅)⋅(t - t₆)⋅(t - t₇)⋅(t - t₈)⋅(t - t₉)      \n",
       "───────────────────────────────────────────────────────────────────────────── \n",
       "+ t₄)⋅(-t₂ + t₄)⋅(-t₃ + t₄)⋅(t₄ - t₅)⋅(t₄ - t₆)⋅(t₄ - t₇)⋅(t₄ - t₈)⋅(t₄ - t₉) \n",
       "\n",
       "       f₅⋅(t - t₀)⋅(t - t₁)⋅(t - t₂)⋅(t - t₃)⋅(t - t₄)⋅(t - t₆)⋅(t - t₇)⋅(t - \n",
       "+ ────────────────────────────────────────────────────────────────────────────\n",
       "  (-t₀ + t₅)⋅(-t₁ + t₅)⋅(-t₂ + t₅)⋅(-t₃ + t₅)⋅(-t₄ + t₅)⋅(t₅ - t₆)⋅(t₅ - t₇)⋅(\n",
       "\n",
       "t₈)⋅(t - t₉)               f₆⋅(t - t₀)⋅(t - t₁)⋅(t - t₂)⋅(t - t₃)⋅(t - t₄)⋅(t \n",
       "────────────────── + ─────────────────────────────────────────────────────────\n",
       "t₅ - t₈)⋅(t₅ - t₉)   (-t₀ + t₆)⋅(-t₁ + t₆)⋅(-t₂ + t₆)⋅(-t₃ + t₆)⋅(-t₄ + t₆)⋅(-\n",
       "\n",
       "- t₅)⋅(t - t₇)⋅(t - t₈)⋅(t - t₉)               f₇⋅(t - t₀)⋅(t - t₁)⋅(t - t₂)⋅(\n",
       "────────────────────────────────────── + ─────────────────────────────────────\n",
       "t₅ + t₆)⋅(t₆ - t₇)⋅(t₆ - t₈)⋅(t₆ - t₉)   (-t₀ + t₇)⋅(-t₁ + t₇)⋅(-t₂ + t₇)⋅(-t₃\n",
       "\n",
       "t - t₃)⋅(t - t₄)⋅(t - t₅)⋅(t - t₆)⋅(t - t₈)⋅(t - t₉)                 f₈⋅(t - t\n",
       "─────────────────────────────────────────────────────────── + ────────────────\n",
       " + t₇)⋅(-t₄ + t₇)⋅(-t₅ + t₇)⋅(-t₆ + t₇)⋅(t₇ - t₈)⋅(t₇ - t₉)   (-t₀ + t₈)⋅(-t₁ \n",
       "\n",
       "₀)⋅(t - t₁)⋅(t - t₂)⋅(t - t₃)⋅(t - t₄)⋅(t - t₅)⋅(t - t₆)⋅(t - t₇)⋅(t - t₉)    \n",
       "──────────────────────────────────────────────────────────────────────────────\n",
       "+ t₈)⋅(-t₂ + t₈)⋅(-t₃ + t₈)⋅(-t₄ + t₈)⋅(-t₅ + t₈)⋅(-t₆ + t₈)⋅(-t₇ + t₈)⋅(t₈ - \n",
       "\n",
       "             f₉⋅(t - t₀)⋅(t - t₁)⋅(t - t₂)⋅(t - t₃)⋅(t - t₄)⋅(t - t₅)⋅(t - t₆)\n",
       "─── + ────────────────────────────────────────────────────────────────────────\n",
       "t₉)   (-t₀ + t₉)⋅(-t₁ + t₉)⋅(-t₂ + t₉)⋅(-t₃ + t₉)⋅(-t₄ + t₉)⋅(-t₅ + t₉)⋅(-t₆ +\n",
       "\n",
       "⋅(t - t₇)⋅(t - t₈)        \n",
       "──────────────────────────\n",
       " t₉)⋅(-t₇ + t₉)⋅(-t₈ + t₉)"
      ]
     },
     "execution_count": 10,
     "metadata": {},
     "output_type": "execute_result"
    }
   ],
   "source": [
    "lagrange (10)"
   ]
  },
  {
   "cell_type": "markdown",
   "metadata": {},
   "source": [
    "##(b) Adams Bashford"
   ]
  },
  {
   "cell_type": "code",
   "execution_count": 11,
   "metadata": {
    "collapsed": true
   },
   "outputs": [],
   "source": [
    "# segundo punto a partir de modificar un poco el metodo anterior\n",
    "def adams1(orden):\n",
    "    # Se asigna un valor simbolico a la as variable t y h  \n",
    "    t=var('t')\n",
    "    h=var('h')\n",
    "    \n",
    "    # Se declaran dos arreglos uno para los valores de f y sus subindices, lo mismo para t\n",
    "    F=[]\n",
    "    T=[]\n",
    "    \n",
    "    # Se inicializa los valores de t y f segun el orden que entro por parametro\n",
    "    for i in range(orden):\n",
    "        F.append(var('f%d'%i))\n",
    "        T.append(var('t%d'%i))\n",
    "    print T[0]\n",
    "    # Se inicializa la variable d la expresion para el polinomio \n",
    "    adam=0\n",
    "    \n",
    "    # Se recorren los arreglos para generara los polinomios\n",
    "    for n in range(orden):\n",
    "        #se rehacen los cambios de t para poder hacer la integración\n",
    "        for k in range(1,orden):\n",
    "            T[k]=T[0]-(h*k)\n",
    "        adamParcial=F[n]\n",
    "        for i in range(orden):\n",
    "            if i!=n:\n",
    "                adamParcial=adamParcial*(t-T[i])/(T[n]-T[i])   \n",
    "        adam=adam+adamParcial\n",
    "    # Se integra el polinomio\n",
    "    legendre=integrate(adam,(t,T[0],T[0]+h))\n",
    "    # Se devuelve el polinomio simplificado\n",
    "    return simplify(legendre)"
   ]
  },
  {
   "cell_type": "code",
   "execution_count": 12,
   "metadata": {
    "collapsed": false
   },
   "outputs": [],
   "source": [
    "def adams(order):\n",
    "    #se inicializa la variable h \n",
    "    h=var('h')\n",
    "    \n",
    "    #se llama al metodo del punto anterior para obtener el polinomio\n",
    "    adam=lagrange(order)\n",
    "    \n",
    "    # se inicializan dos arreglos para la variable y valores a cambiar\n",
    "    variable=[]\n",
    "    replace=[]\n",
    "    # Se genean las variable y sus cambios en el los arreglos\n",
    "    for l in range(1,order):\n",
    "        variable.append(var('t%d'%l))\n",
    "        replace.append(t0-l*h)\n",
    "        \n",
    "    # Se generan los cambios de symbolos necesarios \n",
    "    for k in range(1,order):\n",
    "        adam=adam.xreplace({variable[k-1]:replace[k-1]})\n",
    "    \n",
    "    # se integra el polinomio con los cambios necesarios \n",
    "    adams=integrate(adam,(t,t0,t0+h))\n",
    "    \n",
    "    #devuele la integral simplificada\n",
    "    return simplify(adams)"
   ]
  },
  {
   "cell_type": "code",
   "execution_count": 13,
   "metadata": {
    "collapsed": false
   },
   "outputs": [
    {
     "data": {
      "image/png": "[encoded data removed]",
      "text/latex": [
       "$$\\frac{h}{2} \\left(3 f_{0} - f_{1}\\right)$$"
      ],
      "text/plain": [
       "h⋅(3⋅f₀ - f₁)\n",
       "─────────────\n",
       "      2      "
      ]
     },
     "execution_count": 13,
     "metadata": {},
     "output_type": "execute_result"
    }
   ],
   "source": [
    "adams(2)"
   ]
  },
  {
   "cell_type": "code",
   "execution_count": 14,
   "metadata": {
    "collapsed": false
   },
   "outputs": [
    {
     "data": {
      "image/png": "[encoded data removed]",
      "text/latex": [
       "$$\\frac{h}{12} \\left(23 f_{0} - 16 f_{1} + 5 f_{2}\\right)$$"
      ],
      "text/plain": [
       "h⋅(23⋅f₀ - 16⋅f₁ + 5⋅f₂)\n",
       "────────────────────────\n",
       "           12           "
      ]
     },
     "execution_count": 14,
     "metadata": {},
     "output_type": "execute_result"
    }
   ],
   "source": [
    "adams(3)"
   ]
  },
  {
   "cell_type": "code",
   "execution_count": 15,
   "metadata": {
    "collapsed": false
   },
   "outputs": [
    {
     "data": {
      "image/png": "[encoded data removed]",
      "text/latex": [
       "$$\\frac{h}{24} \\left(55 f_{0} - 59 f_{1} + 37 f_{2} - 9 f_{3}\\right)$$"
      ],
      "text/plain": [
       "h⋅(55⋅f₀ - 59⋅f₁ + 37⋅f₂ - 9⋅f₃)\n",
       "────────────────────────────────\n",
       "               24               "
      ]
     },
     "execution_count": 15,
     "metadata": {},
     "output_type": "execute_result"
    }
   ],
   "source": [
    "adams(4)"
   ]
  },
  {
   "cell_type": "code",
   "execution_count": 16,
   "metadata": {
    "collapsed": false
   },
   "outputs": [
    {
     "data": {
      "image/png": "[encoded data removed]",
      "text/latex": [
       "$$\\frac{h}{720} \\left(1901 f_{0} - 2774 f_{1} + 2616 f_{2} - 1274 f_{3} + 251 f_{4}\\right)$$"
      ],
      "text/plain": [
       "h⋅(1901⋅f₀ - 2774⋅f₁ + 2616⋅f₂ - 1274⋅f₃ + 251⋅f₄)\n",
       "──────────────────────────────────────────────────\n",
       "                       720                        "
      ]
     },
     "execution_count": 16,
     "metadata": {},
     "output_type": "execute_result"
    }
   ],
   "source": [
    "adams(5)"
   ]
  },
  {
   "cell_type": "code",
   "execution_count": 17,
   "metadata": {
    "collapsed": false
   },
   "outputs": [
    {
     "data": {
      "image/png": "[encoded data removed]",
      "text/latex": [
       "$$\\frac{h}{120960} \\left(434241 f_{0} - 1152169 f_{1} + 2183877 f_{2} - 2664477 f_{3} + 2102243 f_{4} - 1041723 f_{5} + 295767 f_{6} - 36799 f_{7}\\right)$$"
      ],
      "text/plain": [
       "h⋅(434241⋅f₀ - 1152169⋅f₁ + 2183877⋅f₂ - 2664477⋅f₃ + 2102243⋅f₄ - 1041723⋅f₅ \n",
       "──────────────────────────────────────────────────────────────────────────────\n",
       "                                                120960                        \n",
       "\n",
       "+ 295767⋅f₆ - 36799⋅f₇)\n",
       "───────────────────────\n",
       "                       "
      ]
     },
     "execution_count": 17,
     "metadata": {},
     "output_type": "execute_result"
    }
   ],
   "source": [
    "adams(8)"
   ]
  },
  {
   "cell_type": "code",
   "execution_count": 18,
   "metadata": {
    "collapsed": false
   },
   "outputs": [
    {
     "data": {
      "image/png": "[encoded data removed]",
      "text/latex": [
       "$$\\frac{f_{0}}{2 h} \\left(2 h + t - t_{0}\\right) - \\frac{f_{1} \\left(t - t_{0}\\right)}{2 h}$$"
      ],
      "text/plain": [
       "f₀⋅(2⋅h + t - t₀)   f₁⋅(t - t₀)\n",
       "───────────────── - ───────────\n",
       "       2⋅h              2⋅h    "
      ]
     },
     "execution_count": 18,
     "metadata": {},
     "output_type": "execute_result"
    }
   ],
   "source": [
    "# Aproximacion a la funcion xreplace de sympy\n",
    "adam=lagrange(2)\n",
    "H=[t,t1]\n",
    "r=[t0-2*h]\n",
    "adam.xreplace({H[1]:r[0]})"
   ]
  },
  {
   "cell_type": "code",
   "execution_count": 19,
   "metadata": {
    "collapsed": false
   },
   "outputs": [],
   "source": [
    "# Aproximacion a la funcion xreplace de sympy\n",
    "def prueba2 (orden):\n",
    "    separable=lagrange(orden)\n",
    "    print separable\n",
    "    s= separable.xreplace({t1: 2})\n",
    "    return s"
   ]
  },
  {
   "cell_type": "code",
   "execution_count": 20,
   "metadata": {
    "collapsed": false
   },
   "outputs": [
    {
     "name": "stdout",
     "output_type": "stream",
     "text": [
      "x**4 + x**2\n",
      "x**4 + x**2\n"
     ]
    }
   ],
   "source": [
    "x=var('x')\n",
    "y=var('y')\n",
    "t=(x**2 + x**4)\n",
    "print t\n",
    "t.xreplace({x: y})\n",
    "print t\n",
    "#t=x**2+y**2\n",
    "#t.subs(x,y)\n",
    "#print t"
   ]
  },
  {
   "cell_type": "code",
   "execution_count": 21,
   "metadata": {
    "collapsed": false
   },
   "outputs": [
    {
     "data": {
      "image/png": "[encoded data removed]",
      "text/latex": [
       "$$x + y$$"
      ],
      "text/plain": [
       "x + y"
      ]
     },
     "execution_count": 21,
     "metadata": {},
     "output_type": "execute_result"
    }
   ],
   "source": [
    "# Aproximacion a los comados basicos de sympy \n",
    "x,y=symbols('x,y')\n",
    "Add(x,y)"
   ]
  },
  {
   "cell_type": "code",
   "execution_count": null,
   "metadata": {
    "collapsed": true
   },
   "outputs": [],
   "source": []
  }
 ],
 "metadata": {
  "kernelspec": {
   "display_name": "Python 2",
   "language": "python",
   "name": "python2"
  },
  "language_info": {
   "codemirror_mode": {
    "name": "ipython",
    "version": 2
   },
   "file_extension": ".py",
   "mimetype": "text/x-python",
   "name": "python",
   "nbconvert_exporter": "python",
   "pygments_lexer": "ipython2",
   "version": "2.7.6"
  }
 },
 "nbformat": 4,
 "nbformat_minor": 0
}
