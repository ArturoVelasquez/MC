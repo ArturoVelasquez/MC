{
 "cells": [
  {
   "cell_type": "code",
   "execution_count": 4,
   "metadata": {
    "collapsed": true
   },
   "outputs": [],
   "source": [
    "import matplotlib\n",
    "import numpy as np\n",
    "from scipy import *\n",
    "from sympy import *\n",
    "init_printing(use_unicode=True)"
   ]
  },
  {
   "cell_type": "code",
   "execution_count": 5,
   "metadata": {
    "collapsed": false
   },
   "outputs": [],
   "source": [
    "def simple(o1,o2):\n",
    "    t1,t2=symbols('t%d t%d'%(o1,o2))\n",
    "    denominador=(t1-t2)**o1\n",
    "    numerador=(t1+t2)**o2\n",
    "    division=div(numerador, denominador)\n",
    "    return division"
   ]
  },
  {
   "cell_type": "code",
   "execution_count": 6,
   "metadata": {
    "collapsed": false
   },
   "outputs": [
    {
     "data": {
      "image/png": "[encoded data removed]",
      "text/latex": [
       "$$\\begin{pmatrix}t_{5}^{2} + 12 t_{5} t_{7} + 71 t_{7}^{2}, & 280 t_{5}^{4} t_{7}^{3} - 560 t_{5}^{3} t_{7}^{4} + 672 t_{5}^{2} t_{7}^{5} - 336 t_{5} t_{7}^{6} + 72 t_{7}^{7}\\end{pmatrix}$$"
      ],
      "text/plain": [
       "⎛  2                   2        4   3         3   4         2   5            6\n",
       "⎝t₅  + 12⋅t₅⋅t₇ + 71⋅t₇ , 280⋅t₅ ⋅t₇  - 560⋅t₅ ⋅t₇  + 672⋅t₅ ⋅t₇  - 336⋅t₅⋅t₇ \n",
       "\n",
       "        7⎞\n",
       " + 72⋅t₇ ⎠"
      ]
     },
     "execution_count": 6,
     "metadata": {},
     "output_type": "execute_result"
    }
   ],
   "source": [
    "simple(5,7)"
   ]
  },
  {
   "cell_type": "code",
   "execution_count": 7,
   "metadata": {
    "collapsed": true
   },
   "outputs": [],
   "source": [
    "def simple2(n):\n",
    "    x=var('t%d'%n)\n",
    "    return x**n"
   ]
  },
  {
   "cell_type": "code",
   "execution_count": 8,
   "metadata": {
    "collapsed": false
   },
   "outputs": [
    {
     "data": {
      "image/png": "[encoded data removed]",
      "text/latex": [
       "$$t_{4}^{4}$$"
      ],
      "text/plain": [
       "  4\n",
       "t₄ "
      ]
     },
     "execution_count": 8,
     "metadata": {},
     "output_type": "execute_result"
    }
   ],
   "source": [
    "simple2(4)"
   ]
  },
  {
   "cell_type": "code",
   "execution_count": 56,
   "metadata": {
    "collapsed": false
   },
   "outputs": [],
   "source": [
    "def legendre(orden):\n",
    "    t=var('t')\n",
    "    h=var('h')\n",
    "    #forma=np.arange(orden)\n",
    "    #F = full_like(forma,'f1',np.dtype('a2'))\n",
    "    #T = full_like(forma,'t1',np.dtype('a2'))\n",
    "    F=[]\n",
    "    T=[]\n",
    "    for i in range(orden):\n",
    "        F.append(var('f%d'%i))\n",
    "        T.append(var('t%d'%i))\n",
    "    adam=0\n",
    "    for n in range(orden):\n",
    "        for k in range(1,orden):\n",
    "            T[k]=T[0]-(h*k)\n",
    "        adamParcial=F[n]\n",
    "        for i in range(orden):\n",
    "            if i!=n:\n",
    "                adamParcial=adamParcial*(t-T[i])/(T[n]-T[i])   \n",
    "        adam=adam+adamParcial\n",
    "    \n",
    "    legendre=integrate(adam,(t,T[0],T[0]+h))\n",
    "    return simplify(legendre)\n",
    "\n",
    "    \n",
    "   \n",
    "    "
   ]
  },
  {
   "cell_type": "code",
   "execution_count": 61,
   "metadata": {
    "collapsed": false
   },
   "outputs": [
    {
     "data": {
      "image/png": "[encoded data removed]",
      "text/latex": [
       "$$\\frac{h}{720} \\left(1901 f_{0} - 2774 f_{1} + 2616 f_{2} - 1274 f_{3} + 251 f_{4}\\right)$$"
      ],
      "text/plain": [
       "h⋅(1901⋅f₀ - 2774⋅f₁ + 2616⋅f₂ - 1274⋅f₃ + 251⋅f₄)\n",
       "──────────────────────────────────────────────────\n",
       "                       720                        "
      ]
     },
     "execution_count": 61,
     "metadata": {},
     "output_type": "execute_result"
    }
   ],
   "source": [
    "legendre(5)"
   ]
  },
  {
   "cell_type": "code",
   "execution_count": 31,
   "metadata": {
    "collapsed": false
   },
   "outputs": [],
   "source": [
    "def prueba (n):\n",
    "    s=[]\n",
    "    for i in range(n):\n",
    "        s.append(var('d%d'%i))\n",
    "    return s\n"
   ]
  },
  {
   "cell_type": "code",
   "execution_count": 32,
   "metadata": {
    "collapsed": false
   },
   "outputs": [
    {
     "data": {
      "image/png": "[encoded data removed]",
      "text/latex": [
       "$$\\begin{bmatrix}d_{0}, & d_{1}, & d_{2}, & d_{3}\\end{bmatrix}$$"
      ],
      "text/plain": [
       "[d₀, d₁, d₂, d₃]"
      ]
     },
     "execution_count": 32,
     "metadata": {},
     "output_type": "execute_result"
    }
   ],
   "source": [
    "prueba(4)"
   ]
  },
  {
   "cell_type": "code",
   "execution_count": 11,
   "metadata": {
    "collapsed": false
   },
   "outputs": [],
   "source": [
    "t=var('t')"
   ]
  },
  {
   "cell_type": "code",
   "execution_count": 136,
   "metadata": {
    "collapsed": false
   },
   "outputs": [
    {
     "data": {
      "image/png": "[encoded data removed]",
      "text/latex": [
       "$$t_{5}$$"
      ],
      "text/plain": [
       "t₅"
      ]
     },
     "execution_count": 136,
     "metadata": {},
     "output_type": "execute_result"
    }
   ],
   "source": [
    "var('t%d'%5)"
   ]
  },
  {
   "cell_type": "code",
   "execution_count": 1,
   "metadata": {
    "collapsed": false
   },
   "outputs": [],
   "source": [
    "def cosas(i):\n",
    "    mensaje =('Tn%d'%(i))\n",
    "    \n",
    "    print mensaje\n",
    "\n"
   ]
  },
  {
   "cell_type": "code",
   "execution_count": 2,
   "metadata": {
    "collapsed": false
   },
   "outputs": [
    {
     "name": "stdout",
     "output_type": "stream",
     "text": [
      "Tn10\n"
     ]
    }
   ],
   "source": [
    "cosas(10)"
   ]
  },
  {
   "cell_type": "code",
   "execution_count": null,
   "metadata": {
    "collapsed": true
   },
   "outputs": [],
   "source": [
    "var"
   ]
  },
  {
   "cell_type": "code",
   "execution_count": null,
   "metadata": {
    "collapsed": false
   },
   "outputs": [],
   "source": []
  }
 ],
 "metadata": {
  "kernelspec": {
   "display_name": "Python 2",
   "language": "python",
   "name": "python2"
  },
  "language_info": {
   "codemirror_mode": {
    "name": "ipython",
    "version": 2
   },
   "file_extension": ".py",
   "mimetype": "text/x-python",
   "name": "python",
   "nbconvert_exporter": "python",
   "pygments_lexer": "ipython2",
   "version": "2.7.6"
  }
 },
 "nbformat": 4,
 "nbformat_minor": 0
}
